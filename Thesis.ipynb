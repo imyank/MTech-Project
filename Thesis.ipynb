{
  "nbformat": 4,
  "nbformat_minor": 0,
  "metadata": {
    "kernelspec": {
      "display_name": "Python 3",
      "language": "python",
      "name": "python3"
    },
    "language_info": {
      "codemirror_mode": {
        "name": "ipython",
        "version": 3
      },
      "file_extension": ".py",
      "mimetype": "text/x-python",
      "name": "python",
      "nbconvert_exporter": "python",
      "pygments_lexer": "ipython3",
      "version": "3.6.9"
    },
    "colab": {
      "provenance": [],
      "collapsed_sections": [
        "R0SzdrLW6ZTV",
        "CMx0ZBEL7ooX",
        "W-mK00RGSiP5",
        "nbz8IovyAH0b"
      ]
    }
  },
  "cells": [
    {
      "cell_type": "markdown",
      "metadata": {
        "id": "aCUSk86dl-ak"
      },
      "source": [
        "## Stock Market Prediction Using CNN-BiLSTM and Transformer"
      ]
    },
    {
      "cell_type": "code",
      "metadata": {
        "colab": {
          "base_uri": "https://localhost:8080/"
        },
        "id": "gK0ZJ7hhmDLs",
        "outputId": "801ed92e-474b-4f9f-d955-1693d04f6f92"
      },
      "source": [
        "!pip install yfinance"
      ],
      "execution_count": null,
      "outputs": [
        {
          "output_type": "stream",
          "name": "stdout",
          "text": [
            "Collecting yfinance\n",
            "  Downloading yfinance-0.1.70-py2.py3-none-any.whl (26 kB)\n",
            "Requirement already satisfied: numpy>=1.15 in /usr/local/lib/python3.7/dist-packages (from yfinance) (1.21.6)\n",
            "Collecting requests>=2.26\n",
            "  Downloading requests-2.27.1-py2.py3-none-any.whl (63 kB)\n",
            "\u001b[K     |████████████████████████████████| 63 kB 1.7 MB/s \n",
            "\u001b[?25hCollecting lxml>=4.5.1\n",
            "  Downloading lxml-4.8.0-cp37-cp37m-manylinux_2_17_x86_64.manylinux2014_x86_64.manylinux_2_24_x86_64.whl (6.4 MB)\n",
            "\u001b[K     |████████████████████████████████| 6.4 MB 16.5 MB/s \n",
            "\u001b[?25hRequirement already satisfied: pandas>=0.24.0 in /usr/local/lib/python3.7/dist-packages (from yfinance) (1.3.5)\n",
            "Requirement already satisfied: multitasking>=0.0.7 in /usr/local/lib/python3.7/dist-packages (from yfinance) (0.0.10)\n",
            "Requirement already satisfied: python-dateutil>=2.7.3 in /usr/local/lib/python3.7/dist-packages (from pandas>=0.24.0->yfinance) (2.8.2)\n",
            "Requirement already satisfied: pytz>=2017.3 in /usr/local/lib/python3.7/dist-packages (from pandas>=0.24.0->yfinance) (2022.1)\n",
            "Requirement already satisfied: six>=1.5 in /usr/local/lib/python3.7/dist-packages (from python-dateutil>=2.7.3->pandas>=0.24.0->yfinance) (1.15.0)\n",
            "Requirement already satisfied: idna<4,>=2.5 in /usr/local/lib/python3.7/dist-packages (from requests>=2.26->yfinance) (2.10)\n",
            "Requirement already satisfied: certifi>=2017.4.17 in /usr/local/lib/python3.7/dist-packages (from requests>=2.26->yfinance) (2021.10.8)\n",
            "Requirement already satisfied: urllib3<1.27,>=1.21.1 in /usr/local/lib/python3.7/dist-packages (from requests>=2.26->yfinance) (1.24.3)\n",
            "Requirement already satisfied: charset-normalizer~=2.0.0 in /usr/local/lib/python3.7/dist-packages (from requests>=2.26->yfinance) (2.0.12)\n",
            "Installing collected packages: requests, lxml, yfinance\n",
            "  Attempting uninstall: requests\n",
            "    Found existing installation: requests 2.23.0\n",
            "    Uninstalling requests-2.23.0:\n",
            "      Successfully uninstalled requests-2.23.0\n",
            "  Attempting uninstall: lxml\n",
            "    Found existing installation: lxml 4.2.6\n",
            "    Uninstalling lxml-4.2.6:\n",
            "      Successfully uninstalled lxml-4.2.6\n",
            "\u001b[31mERROR: pip's dependency resolver does not currently take into account all the packages that are installed. This behaviour is the source of the following dependency conflicts.\n",
            "google-colab 1.0.0 requires requests~=2.23.0, but you have requests 2.27.1 which is incompatible.\n",
            "datascience 0.10.6 requires folium==0.2.1, but you have folium 0.8.3 which is incompatible.\u001b[0m\n",
            "Successfully installed lxml-4.8.0 requests-2.27.1 yfinance-0.1.70\n"
          ]
        }
      ]
    },
    {
      "cell_type": "markdown",
      "source": [
        "Import Library for downloading(Here FB data is only shown)\n",
        "\n",
        "\n"
      ],
      "metadata": {
        "id": "Je1Zbe14sn2n"
      }
    },
    {
      "cell_type": "code",
      "source": [
        "import yfinance as yf\n",
        "df= yf.download(\"FB\", start=\"2014-7-29\", end=\"2021-12-13\")"
      ],
      "metadata": {
        "colab": {
          "base_uri": "https://localhost:8080/"
        },
        "id": "IdG1FgSYl5X2",
        "outputId": "636d3c11-66ce-44e0-c90a-1b798a086bff"
      },
      "execution_count": null,
      "outputs": [
        {
          "output_type": "stream",
          "name": "stdout",
          "text": [
            "\r[*********************100%***********************]  1 of 1 completed\n"
          ]
        }
      ]
    },
    {
      "cell_type": "code",
      "metadata": {
        "colab": {
          "base_uri": "https://localhost:8080/"
        },
        "id": "3citCBw1l-as",
        "outputId": "6fbf4eaf-1fe2-43b8-c62c-a557b018fdc3"
      },
      "source": [
        "df.shape"
      ],
      "execution_count": null,
      "outputs": [
        {
          "output_type": "execute_result",
          "data": {
            "text/plain": [
              "(1858, 6)"
            ]
          },
          "metadata": {},
          "execution_count": 72
        }
      ]
    },
    {
      "cell_type": "code",
      "source": [
        "df.head() "
      ],
      "metadata": {
        "colab": {
          "base_uri": "https://localhost:8080/",
          "height": 238
        },
        "id": "_9WofWgF7QGS",
        "outputId": "9e63dccc-044c-4432-a444-f696e46c9bcf"
      },
      "execution_count": null,
      "outputs": [
        {
          "output_type": "execute_result",
          "data": {
            "text/plain": [
              "                 Open       High        Low      Close  Adj Close    Volume\n",
              "Date                                                                       \n",
              "2014-07-29  74.720001  74.919998  73.419998  73.709999  73.709999  41324000\n",
              "2014-07-30  74.209999  75.190002  74.129997  74.680000  74.680000  36853000\n",
              "2014-07-31  74.000000  74.169998  72.440002  72.650002  72.650002  43992000\n",
              "2014-08-01  72.220001  73.220001  71.550003  72.360001  72.360001  43535000\n",
              "2014-08-04  72.360001  73.879997  72.360001  73.510002  73.510002  30777000"
            ],
            "text/html": [
              "\n",
              "  <div id=\"df-8b94823a-40e6-4329-ac80-0e92f2e09425\">\n",
              "    <div class=\"colab-df-container\">\n",
              "      <div>\n",
              "<style scoped>\n",
              "    .dataframe tbody tr th:only-of-type {\n",
              "        vertical-align: middle;\n",
              "    }\n",
              "\n",
              "    .dataframe tbody tr th {\n",
              "        vertical-align: top;\n",
              "    }\n",
              "\n",
              "    .dataframe thead th {\n",
              "        text-align: right;\n",
              "    }\n",
              "</style>\n",
              "<table border=\"1\" class=\"dataframe\">\n",
              "  <thead>\n",
              "    <tr style=\"text-align: right;\">\n",
              "      <th></th>\n",
              "      <th>Open</th>\n",
              "      <th>High</th>\n",
              "      <th>Low</th>\n",
              "      <th>Close</th>\n",
              "      <th>Adj Close</th>\n",
              "      <th>Volume</th>\n",
              "    </tr>\n",
              "    <tr>\n",
              "      <th>Date</th>\n",
              "      <th></th>\n",
              "      <th></th>\n",
              "      <th></th>\n",
              "      <th></th>\n",
              "      <th></th>\n",
              "      <th></th>\n",
              "    </tr>\n",
              "  </thead>\n",
              "  <tbody>\n",
              "    <tr>\n",
              "      <th>2014-07-29</th>\n",
              "      <td>74.720001</td>\n",
              "      <td>74.919998</td>\n",
              "      <td>73.419998</td>\n",
              "      <td>73.709999</td>\n",
              "      <td>73.709999</td>\n",
              "      <td>41324000</td>\n",
              "    </tr>\n",
              "    <tr>\n",
              "      <th>2014-07-30</th>\n",
              "      <td>74.209999</td>\n",
              "      <td>75.190002</td>\n",
              "      <td>74.129997</td>\n",
              "      <td>74.680000</td>\n",
              "      <td>74.680000</td>\n",
              "      <td>36853000</td>\n",
              "    </tr>\n",
              "    <tr>\n",
              "      <th>2014-07-31</th>\n",
              "      <td>74.000000</td>\n",
              "      <td>74.169998</td>\n",
              "      <td>72.440002</td>\n",
              "      <td>72.650002</td>\n",
              "      <td>72.650002</td>\n",
              "      <td>43992000</td>\n",
              "    </tr>\n",
              "    <tr>\n",
              "      <th>2014-08-01</th>\n",
              "      <td>72.220001</td>\n",
              "      <td>73.220001</td>\n",
              "      <td>71.550003</td>\n",
              "      <td>72.360001</td>\n",
              "      <td>72.360001</td>\n",
              "      <td>43535000</td>\n",
              "    </tr>\n",
              "    <tr>\n",
              "      <th>2014-08-04</th>\n",
              "      <td>72.360001</td>\n",
              "      <td>73.879997</td>\n",
              "      <td>72.360001</td>\n",
              "      <td>73.510002</td>\n",
              "      <td>73.510002</td>\n",
              "      <td>30777000</td>\n",
              "    </tr>\n",
              "  </tbody>\n",
              "</table>\n",
              "</div>\n",
              "      <button class=\"colab-df-convert\" onclick=\"convertToInteractive('df-8b94823a-40e6-4329-ac80-0e92f2e09425')\"\n",
              "              title=\"Convert this dataframe to an interactive table.\"\n",
              "              style=\"display:none;\">\n",
              "        \n",
              "  <svg xmlns=\"http://www.w3.org/2000/svg\" height=\"24px\"viewBox=\"0 0 24 24\"\n",
              "       width=\"24px\">\n",
              "    <path d=\"M0 0h24v24H0V0z\" fill=\"none\"/>\n",
              "    <path d=\"M18.56 5.44l.94 2.06.94-2.06 2.06-.94-2.06-.94-.94-2.06-.94 2.06-2.06.94zm-11 1L8.5 8.5l.94-2.06 2.06-.94-2.06-.94L8.5 2.5l-.94 2.06-2.06.94zm10 10l.94 2.06.94-2.06 2.06-.94-2.06-.94-.94-2.06-.94 2.06-2.06.94z\"/><path d=\"M17.41 7.96l-1.37-1.37c-.4-.4-.92-.59-1.43-.59-.52 0-1.04.2-1.43.59L10.3 9.45l-7.72 7.72c-.78.78-.78 2.05 0 2.83L4 21.41c.39.39.9.59 1.41.59.51 0 1.02-.2 1.41-.59l7.78-7.78 2.81-2.81c.8-.78.8-2.07 0-2.86zM5.41 20L4 18.59l7.72-7.72 1.47 1.35L5.41 20z\"/>\n",
              "  </svg>\n",
              "      </button>\n",
              "      \n",
              "  <style>\n",
              "    .colab-df-container {\n",
              "      display:flex;\n",
              "      flex-wrap:wrap;\n",
              "      gap: 12px;\n",
              "    }\n",
              "\n",
              "    .colab-df-convert {\n",
              "      background-color: #E8F0FE;\n",
              "      border: none;\n",
              "      border-radius: 50%;\n",
              "      cursor: pointer;\n",
              "      display: none;\n",
              "      fill: #1967D2;\n",
              "      height: 32px;\n",
              "      padding: 0 0 0 0;\n",
              "      width: 32px;\n",
              "    }\n",
              "\n",
              "    .colab-df-convert:hover {\n",
              "      background-color: #E2EBFA;\n",
              "      box-shadow: 0px 1px 2px rgba(60, 64, 67, 0.3), 0px 1px 3px 1px rgba(60, 64, 67, 0.15);\n",
              "      fill: #174EA6;\n",
              "    }\n",
              "\n",
              "    [theme=dark] .colab-df-convert {\n",
              "      background-color: #3B4455;\n",
              "      fill: #D2E3FC;\n",
              "    }\n",
              "\n",
              "    [theme=dark] .colab-df-convert:hover {\n",
              "      background-color: #434B5C;\n",
              "      box-shadow: 0px 1px 3px 1px rgba(0, 0, 0, 0.15);\n",
              "      filter: drop-shadow(0px 1px 2px rgba(0, 0, 0, 0.3));\n",
              "      fill: #FFFFFF;\n",
              "    }\n",
              "  </style>\n",
              "\n",
              "      <script>\n",
              "        const buttonEl =\n",
              "          document.querySelector('#df-8b94823a-40e6-4329-ac80-0e92f2e09425 button.colab-df-convert');\n",
              "        buttonEl.style.display =\n",
              "          google.colab.kernel.accessAllowed ? 'block' : 'none';\n",
              "\n",
              "        async function convertToInteractive(key) {\n",
              "          const element = document.querySelector('#df-8b94823a-40e6-4329-ac80-0e92f2e09425');\n",
              "          const dataTable =\n",
              "            await google.colab.kernel.invokeFunction('convertToInteractive',\n",
              "                                                     [key], {});\n",
              "          if (!dataTable) return;\n",
              "\n",
              "          const docLinkHtml = 'Like what you see? Visit the ' +\n",
              "            '<a target=\"_blank\" href=https://colab.research.google.com/notebooks/data_table.ipynb>data table notebook</a>'\n",
              "            + ' to learn more about interactive tables.';\n",
              "          element.innerHTML = '';\n",
              "          dataTable['output_type'] = 'display_data';\n",
              "          await google.colab.output.renderOutput(dataTable, element);\n",
              "          const docLink = document.createElement('div');\n",
              "          docLink.innerHTML = docLinkHtml;\n",
              "          element.appendChild(docLink);\n",
              "        }\n",
              "      </script>\n",
              "    </div>\n",
              "  </div>\n",
              "  "
            ]
          },
          "metadata": {},
          "execution_count": 73
        }
      ]
    },
    {
      "cell_type": "markdown",
      "source": [
        "#### Overview of data and plots"
      ],
      "metadata": {
        "id": "Nb9laQ06w_tP"
      }
    },
    {
      "cell_type": "code",
      "source": [
        "## Making copy for future usage\n",
        "\n",
        "df2=df.copy()"
      ],
      "metadata": {
        "id": "AWkvHrZGJngR"
      },
      "execution_count": null,
      "outputs": []
    },
    {
      "cell_type": "code",
      "source": [
        "df2=df2.drop(['Adj Close'],axis=1)"
      ],
      "metadata": {
        "id": "WZnNVlg6KBlc"
      },
      "execution_count": null,
      "outputs": []
    },
    {
      "cell_type": "code",
      "source": [
        "df2"
      ],
      "metadata": {
        "colab": {
          "base_uri": "https://localhost:8080/",
          "height": 455
        },
        "id": "tyNkDorSXQ9j",
        "outputId": "5e7f2717-7b22-45f6-a2dc-2d9852b1abd1"
      },
      "execution_count": null,
      "outputs": [
        {
          "output_type": "execute_result",
          "data": {
            "text/plain": [
              "                  Open        High         Low       Close    Volume\n",
              "Date                                                                \n",
              "2014-07-29   74.720001   74.919998   73.419998   73.709999  41324000\n",
              "2014-07-30   74.209999   75.190002   74.129997   74.680000  36853000\n",
              "2014-07-31   74.000000   74.169998   72.440002   72.650002  43992000\n",
              "2014-08-01   72.220001   73.220001   71.550003   72.360001  43535000\n",
              "2014-08-04   72.360001   73.879997   72.360001   73.510002  30777000\n",
              "...                ...         ...         ...         ...       ...\n",
              "2021-12-06  308.130005  320.100006  306.339996  317.869995  21758300\n",
              "2021-12-07  321.570007  326.540009  321.000000  322.809998  18794000\n",
              "2021-12-08  325.000000  332.750000  323.070007  330.559998  19937700\n",
              "2021-12-09  329.540009  336.130005  328.000000  329.820007  16879200\n",
              "2021-12-10  332.559998  335.029999  326.369995  329.750000  14528000\n",
              "\n",
              "[1858 rows x 5 columns]"
            ],
            "text/html": [
              "\n",
              "  <div id=\"df-22a5ca16-c2fe-409b-92f5-4a92d77fb5b6\">\n",
              "    <div class=\"colab-df-container\">\n",
              "      <div>\n",
              "<style scoped>\n",
              "    .dataframe tbody tr th:only-of-type {\n",
              "        vertical-align: middle;\n",
              "    }\n",
              "\n",
              "    .dataframe tbody tr th {\n",
              "        vertical-align: top;\n",
              "    }\n",
              "\n",
              "    .dataframe thead th {\n",
              "        text-align: right;\n",
              "    }\n",
              "</style>\n",
              "<table border=\"1\" class=\"dataframe\">\n",
              "  <thead>\n",
              "    <tr style=\"text-align: right;\">\n",
              "      <th></th>\n",
              "      <th>Open</th>\n",
              "      <th>High</th>\n",
              "      <th>Low</th>\n",
              "      <th>Close</th>\n",
              "      <th>Volume</th>\n",
              "    </tr>\n",
              "    <tr>\n",
              "      <th>Date</th>\n",
              "      <th></th>\n",
              "      <th></th>\n",
              "      <th></th>\n",
              "      <th></th>\n",
              "      <th></th>\n",
              "    </tr>\n",
              "  </thead>\n",
              "  <tbody>\n",
              "    <tr>\n",
              "      <th>2014-07-29</th>\n",
              "      <td>74.720001</td>\n",
              "      <td>74.919998</td>\n",
              "      <td>73.419998</td>\n",
              "      <td>73.709999</td>\n",
              "      <td>41324000</td>\n",
              "    </tr>\n",
              "    <tr>\n",
              "      <th>2014-07-30</th>\n",
              "      <td>74.209999</td>\n",
              "      <td>75.190002</td>\n",
              "      <td>74.129997</td>\n",
              "      <td>74.680000</td>\n",
              "      <td>36853000</td>\n",
              "    </tr>\n",
              "    <tr>\n",
              "      <th>2014-07-31</th>\n",
              "      <td>74.000000</td>\n",
              "      <td>74.169998</td>\n",
              "      <td>72.440002</td>\n",
              "      <td>72.650002</td>\n",
              "      <td>43992000</td>\n",
              "    </tr>\n",
              "    <tr>\n",
              "      <th>2014-08-01</th>\n",
              "      <td>72.220001</td>\n",
              "      <td>73.220001</td>\n",
              "      <td>71.550003</td>\n",
              "      <td>72.360001</td>\n",
              "      <td>43535000</td>\n",
              "    </tr>\n",
              "    <tr>\n",
              "      <th>2014-08-04</th>\n",
              "      <td>72.360001</td>\n",
              "      <td>73.879997</td>\n",
              "      <td>72.360001</td>\n",
              "      <td>73.510002</td>\n",
              "      <td>30777000</td>\n",
              "    </tr>\n",
              "    <tr>\n",
              "      <th>...</th>\n",
              "      <td>...</td>\n",
              "      <td>...</td>\n",
              "      <td>...</td>\n",
              "      <td>...</td>\n",
              "      <td>...</td>\n",
              "    </tr>\n",
              "    <tr>\n",
              "      <th>2021-12-06</th>\n",
              "      <td>308.130005</td>\n",
              "      <td>320.100006</td>\n",
              "      <td>306.339996</td>\n",
              "      <td>317.869995</td>\n",
              "      <td>21758300</td>\n",
              "    </tr>\n",
              "    <tr>\n",
              "      <th>2021-12-07</th>\n",
              "      <td>321.570007</td>\n",
              "      <td>326.540009</td>\n",
              "      <td>321.000000</td>\n",
              "      <td>322.809998</td>\n",
              "      <td>18794000</td>\n",
              "    </tr>\n",
              "    <tr>\n",
              "      <th>2021-12-08</th>\n",
              "      <td>325.000000</td>\n",
              "      <td>332.750000</td>\n",
              "      <td>323.070007</td>\n",
              "      <td>330.559998</td>\n",
              "      <td>19937700</td>\n",
              "    </tr>\n",
              "    <tr>\n",
              "      <th>2021-12-09</th>\n",
              "      <td>329.540009</td>\n",
              "      <td>336.130005</td>\n",
              "      <td>328.000000</td>\n",
              "      <td>329.820007</td>\n",
              "      <td>16879200</td>\n",
              "    </tr>\n",
              "    <tr>\n",
              "      <th>2021-12-10</th>\n",
              "      <td>332.559998</td>\n",
              "      <td>335.029999</td>\n",
              "      <td>326.369995</td>\n",
              "      <td>329.750000</td>\n",
              "      <td>14528000</td>\n",
              "    </tr>\n",
              "  </tbody>\n",
              "</table>\n",
              "<p>1858 rows × 5 columns</p>\n",
              "</div>\n",
              "      <button class=\"colab-df-convert\" onclick=\"convertToInteractive('df-22a5ca16-c2fe-409b-92f5-4a92d77fb5b6')\"\n",
              "              title=\"Convert this dataframe to an interactive table.\"\n",
              "              style=\"display:none;\">\n",
              "        \n",
              "  <svg xmlns=\"http://www.w3.org/2000/svg\" height=\"24px\"viewBox=\"0 0 24 24\"\n",
              "       width=\"24px\">\n",
              "    <path d=\"M0 0h24v24H0V0z\" fill=\"none\"/>\n",
              "    <path d=\"M18.56 5.44l.94 2.06.94-2.06 2.06-.94-2.06-.94-.94-2.06-.94 2.06-2.06.94zm-11 1L8.5 8.5l.94-2.06 2.06-.94-2.06-.94L8.5 2.5l-.94 2.06-2.06.94zm10 10l.94 2.06.94-2.06 2.06-.94-2.06-.94-.94-2.06-.94 2.06-2.06.94z\"/><path d=\"M17.41 7.96l-1.37-1.37c-.4-.4-.92-.59-1.43-.59-.52 0-1.04.2-1.43.59L10.3 9.45l-7.72 7.72c-.78.78-.78 2.05 0 2.83L4 21.41c.39.39.9.59 1.41.59.51 0 1.02-.2 1.41-.59l7.78-7.78 2.81-2.81c.8-.78.8-2.07 0-2.86zM5.41 20L4 18.59l7.72-7.72 1.47 1.35L5.41 20z\"/>\n",
              "  </svg>\n",
              "      </button>\n",
              "      \n",
              "  <style>\n",
              "    .colab-df-container {\n",
              "      display:flex;\n",
              "      flex-wrap:wrap;\n",
              "      gap: 12px;\n",
              "    }\n",
              "\n",
              "    .colab-df-convert {\n",
              "      background-color: #E8F0FE;\n",
              "      border: none;\n",
              "      border-radius: 50%;\n",
              "      cursor: pointer;\n",
              "      display: none;\n",
              "      fill: #1967D2;\n",
              "      height: 32px;\n",
              "      padding: 0 0 0 0;\n",
              "      width: 32px;\n",
              "    }\n",
              "\n",
              "    .colab-df-convert:hover {\n",
              "      background-color: #E2EBFA;\n",
              "      box-shadow: 0px 1px 2px rgba(60, 64, 67, 0.3), 0px 1px 3px 1px rgba(60, 64, 67, 0.15);\n",
              "      fill: #174EA6;\n",
              "    }\n",
              "\n",
              "    [theme=dark] .colab-df-convert {\n",
              "      background-color: #3B4455;\n",
              "      fill: #D2E3FC;\n",
              "    }\n",
              "\n",
              "    [theme=dark] .colab-df-convert:hover {\n",
              "      background-color: #434B5C;\n",
              "      box-shadow: 0px 1px 3px 1px rgba(0, 0, 0, 0.15);\n",
              "      filter: drop-shadow(0px 1px 2px rgba(0, 0, 0, 0.3));\n",
              "      fill: #FFFFFF;\n",
              "    }\n",
              "  </style>\n",
              "\n",
              "      <script>\n",
              "        const buttonEl =\n",
              "          document.querySelector('#df-22a5ca16-c2fe-409b-92f5-4a92d77fb5b6 button.colab-df-convert');\n",
              "        buttonEl.style.display =\n",
              "          google.colab.kernel.accessAllowed ? 'block' : 'none';\n",
              "\n",
              "        async function convertToInteractive(key) {\n",
              "          const element = document.querySelector('#df-22a5ca16-c2fe-409b-92f5-4a92d77fb5b6');\n",
              "          const dataTable =\n",
              "            await google.colab.kernel.invokeFunction('convertToInteractive',\n",
              "                                                     [key], {});\n",
              "          if (!dataTable) return;\n",
              "\n",
              "          const docLinkHtml = 'Like what you see? Visit the ' +\n",
              "            '<a target=\"_blank\" href=https://colab.research.google.com/notebooks/data_table.ipynb>data table notebook</a>'\n",
              "            + ' to learn more about interactive tables.';\n",
              "          element.innerHTML = '';\n",
              "          dataTable['output_type'] = 'display_data';\n",
              "          await google.colab.output.renderOutput(dataTable, element);\n",
              "          const docLink = document.createElement('div');\n",
              "          docLink.innerHTML = docLinkHtml;\n",
              "          element.appendChild(docLink);\n",
              "        }\n",
              "      </script>\n",
              "    </div>\n",
              "  </div>\n",
              "  "
            ]
          },
          "metadata": {},
          "execution_count": 6
        }
      ]
    },
    {
      "cell_type": "code",
      "metadata": {
        "id": "oD1b7aqll-at"
      },
      "source": [
        "df1=df.reset_index()['Adj Close']"
      ],
      "execution_count": null,
      "outputs": []
    },
    {
      "cell_type": "code",
      "source": [
        "df1"
      ],
      "metadata": {
        "colab": {
          "base_uri": "https://localhost:8080/"
        },
        "id": "19PNx0ayI6T9",
        "outputId": "1e78fdad-70d4-434e-ee8d-5706d34dbd73"
      },
      "execution_count": null,
      "outputs": [
        {
          "output_type": "execute_result",
          "data": {
            "text/plain": [
              "0        73.709999\n",
              "1        74.680000\n",
              "2        72.650002\n",
              "3        72.360001\n",
              "4        73.510002\n",
              "           ...    \n",
              "1853    317.869995\n",
              "1854    322.809998\n",
              "1855    330.559998\n",
              "1856    329.820007\n",
              "1857    329.750000\n",
              "Name: Adj Close, Length: 1858, dtype: float64"
            ]
          },
          "metadata": {},
          "execution_count": 77
        }
      ]
    },
    {
      "cell_type": "code",
      "metadata": {
        "colab": {
          "base_uri": "https://localhost:8080/",
          "height": 500
        },
        "id": "lUrkwz7Ul-av",
        "outputId": "5975b269-b120-4309-a176-c257cfd2ee02"
      },
      "source": [
        "import matplotlib.pyplot as plt\n",
        "plt.rcParams[\"figure.figsize\"] = (15, 8)\n",
        "plt.plot(df1)"
      ],
      "execution_count": null,
      "outputs": [
        {
          "output_type": "execute_result",
          "data": {
            "text/plain": [
              "[<matplotlib.lines.Line2D at 0x7fadc2bada50>]"
            ]
          },
          "metadata": {},
          "execution_count": 46
        },
        {
          "output_type": "display_data",
          "data": {
            "text/plain": [
              "<Figure size 1080x576 with 1 Axes>"
            ],
            "image/png": "[encoded data removed]"
          },
          "metadata": {
            "needs_background": "light"
          }
        }
      ]
    },
    {
      "cell_type": "markdown",
      "source": [
        " LSTM are sensitive to the scale of the data. so we apply MinMax scaler "
      ],
      "metadata": {
        "id": "4vHtMcqSxNMM"
      }
    },
    {
      "cell_type": "code",
      "metadata": {
        "id": "RiKKXKOZl-aw"
      },
      "source": [
        "import numpy as np\n",
        "from sklearn.preprocessing import MinMaxScaler\n",
        "scaler=MinMaxScaler(feature_range=(0,1))\n"
      ],
      "execution_count": null,
      "outputs": []
    },
    {
      "cell_type": "markdown",
      "source": [
        "Train-Test split"
      ],
      "metadata": {
        "id": "RXkeRHWlxgIN"
      }
    },
    {
      "cell_type": "code",
      "source": [
        "train_data, val_data, test_data = np.split(df.sample(frac=1), [int(.75*len(df)),\n",
        "int(.85*len(df))])"
      ],
      "metadata": {
        "id": "vQr48gaIA2K1"
      },
      "execution_count": null,
      "outputs": []
    },
    {
      "cell_type": "code",
      "source": [
        "print(len(train_data),len(val_data),len(test_data))"
      ],
      "metadata": {
        "colab": {
          "base_uri": "https://localhost:8080/"
        },
        "id": "eaQm2MF2WGOr",
        "outputId": "edf7dc3e-13ea-4cf2-f943-ebee67e5297c"
      },
      "execution_count": null,
      "outputs": [
        {
          "output_type": "stream",
          "name": "stdout",
          "text": [
            "1393 186 279\n"
          ]
        }
      ]
    },
    {
      "cell_type": "markdown",
      "source": [
        "Amzn data plot with train and test split"
      ],
      "metadata": {
        "id": "FIWTX1qPxUHk"
      }
    },
    {
      "cell_type": "code",
      "source": [
        "import matplotlib.pyplot as plt\n",
        "plt.rcParams[\"figure.figsize\"] = (15, 8)\n",
        "plt.plot(train_data,label='Train')\n",
        "plt.plot(test_data,label='Test')\n",
        "plt.legend(fontsize=20)"
      ],
      "metadata": {
        "colab": {
          "base_uri": "https://localhost:8080/",
          "height": 500
        },
        "id": "wm3DNKHiXfgP",
        "outputId": "496e8796-443f-4643-f148-9918d93cbf89"
      },
      "execution_count": null,
      "outputs": [
        {
          "output_type": "execute_result",
          "data": {
            "text/plain": [
              "<matplotlib.legend.Legend at 0x7fadc2c23c90>"
            ]
          },
          "metadata": {},
          "execution_count": 49
        },
        {
          "output_type": "display_data",
          "data": {
            "text/plain": [
              "<Figure size 1080x576 with 1 Axes>"
            ],
            "image/png": "[encoded data removed]"
          },
          "metadata": {
            "needs_background": "light"
          }
        }
      ]
    },
    {
      "cell_type": "markdown",
      "source": [
        "Fb data plot with train and test split"
      ],
      "metadata": {
        "id": "HLkSdwZPxby7"
      }
    },
    {
      "cell_type": "code",
      "source": [
        "import matplotlib.pyplot as plt\n",
        "plt.rcParams[\"figure.figsize\"] = (15, 8)\n",
        "plt.plot(train_data,label='Train')\n",
        "plt.plot(test_data,label='Test')\n",
        "plt.legend(fontsize=20)"
      ],
      "metadata": {
        "colab": {
          "base_uri": "https://localhost:8080/",
          "height": 500
        },
        "id": "t-8AxuqLHfJu",
        "outputId": "4b1fb959-c413-4800-bda7-38a2a19ac619"
      },
      "execution_count": null,
      "outputs": [
        {
          "output_type": "execute_result",
          "data": {
            "text/plain": [
              "<matplotlib.legend.Legend at 0x7fadc2cea910>"
            ]
          },
          "metadata": {},
          "execution_count": 40
        },
        {
          "output_type": "display_data",
          "data": {
            "text/plain": [
              "<Figure size 1080x576 with 1 Axes>"
            ],
            "image/png": "[encoded data removed]"
          },
          "metadata": {
            "needs_background": "light"
          }
        }
      ]
    },
    {
      "cell_type": "code",
      "metadata": {
        "id": "_vPqZM0pl-aw"
      },
      "source": [
        "## final splitting dataset into train and test and validation split\n",
        "training_size=int(len(df1)*0.75)\n",
        "test_size=len(df1)-training_size\n",
        "val_size=int(0.1*training_size)\n",
        "training_size=int(0.9*training_size)\n",
        "train_data,val_data,test_data=df1[0:training_size,:],df1[training_size:training_size+val_size,:],df1[training_size+val_size:len(df1),:1]\n",
        "\n",
        "#1252 139 464"
      ],
      "execution_count": null,
      "outputs": []
    },
    {
      "cell_type": "code",
      "source": [
        "train_data.shape"
      ],
      "metadata": {
        "colab": {
          "base_uri": "https://localhost:8080/"
        },
        "id": "GOw7a1vkEI8I",
        "outputId": "412d1b8f-dead-4d75-c7c7-1cad8add3868"
      },
      "execution_count": null,
      "outputs": [
        {
          "output_type": "execute_result",
          "data": {
            "text/plain": [
              "(1253, 1)"
            ]
          },
          "metadata": {},
          "execution_count": 82
        }
      ]
    },
    {
      "cell_type": "code",
      "metadata": {
        "id": "2Tcl5reel-ax"
      },
      "source": [
        "import numpy\n",
        "\n",
        "# convert an array of values into a dataset matrix\n",
        "\n",
        "def create_dataset(dataset, time_step=1):\n",
        "\tdataX, dataY = [], []\n",
        "\tfor i in range(len(dataset)-time_step-1):\n",
        "\t\ta = dataset[i:(i+time_step), 0]   ###i=0, 0,1,2,3-----99   100 \n",
        "\t\tdataX.append(a)\n",
        "\t\tdataY.append(dataset[i + time_step, 0])\n",
        "\treturn numpy.array(dataX), numpy.array(dataY)"
      ],
      "execution_count": null,
      "outputs": []
    },
    {
      "cell_type": "code",
      "metadata": {
        "id": "zKhFhr1Sl-ay"
      },
      "source": [
        "# reshape into X=t,t+1,t+2,t+3 and Y=t+4\n",
        "\n",
        "time_step = 100\n",
        "X_train, y_train = create_dataset(train_data, time_step)\n",
        "X_val, y_val=create_dataset(val_data, time_step)\n",
        "X_test, y_test = create_dataset(test_data, time_step)"
      ],
      "execution_count": null,
      "outputs": []
    },
    {
      "cell_type": "code",
      "source": [
        "print('Training set shape', X_train.shape, y_train.shape)\n",
        "print('Validation set shape', X_val.shape, y_val.shape)\n",
        "print('Testing set shape' ,X_test.shape, y_test.shape)"
      ],
      "metadata": {
        "colab": {
          "base_uri": "https://localhost:8080/"
        },
        "id": "QT4jFKlnoGlC",
        "outputId": "8025545a-279c-44a5-b6aa-4318f6948920"
      },
      "execution_count": null,
      "outputs": [
        {
          "output_type": "stream",
          "name": "stdout",
          "text": [
            "Training set shape (1152, 100) (1152,)\n",
            "Validation set shape (38, 100) (38,)\n",
            "Testing set shape (365, 100) (365,)\n"
          ]
        }
      ]
    },
    {
      "cell_type": "code",
      "metadata": {
        "id": "Kx29WkbKl-ay"
      },
      "source": [
        "# reshape input to be [samples, time steps, features] which is required for LSTM\n",
        "\n",
        "X_train =X_train.reshape(X_train.shape[0],X_train.shape[1] , 1)\n",
        "X_val=X_val.reshape(X_val.shape[0],X_val.shape[1] , 1)\n",
        "X_test = X_test.reshape(X_test.shape[0],X_test.shape[1] , 1)"
      ],
      "execution_count": null,
      "outputs": []
    },
    {
      "cell_type": "code",
      "metadata": {
        "id": "RtnOYmwGl-ay"
      },
      "source": [
        "### Create the Stacked LSTM model\n",
        "\n",
        "from tensorflow.keras.models import Sequential\n",
        "from tensorflow.keras.layers import Dense\n",
        "from tensorflow.keras.layers import LSTM\n",
        "from keras.losses import mean_squared_error\n",
        "from keras import backend as K\n",
        "\n",
        "## function to calculate RMSE\n",
        "\n",
        "def root_mean_squared_error(y_true, y_pred):\n",
        "    return K.sqrt(K.mean(K.square(y_pred -y_true)))"
      ],
      "execution_count": null,
      "outputs": []
    },
    {
      "cell_type": "markdown",
      "source": [
        "combined architecture for BiLSTM, CNN, CNN-BiLSTM( can be altered by different models)"
      ],
      "metadata": {
        "id": "v6u-Fssgx0JP"
      }
    },
    {
      "cell_type": "code",
      "metadata": {
        "id": "S_5Agk-hl-az"
      },
      "source": [
        "from tensorflow.keras.layers import Conv1D, MaxPooling1D, Embedding, Reshape, Flatten\n",
        "from keras.layers import Dense, Dropout, Activation, LSTM, Convolution1D, MaxPooling1D, Flatten\n",
        "from keras.layers import Bidirectional\n",
        "model=Sequential()\n",
        "# model.add(Conv1D(64,kernel_size=3,activation='relu',input_shape=(100,1)))\n",
        "# model.add(MaxPooling1D(pool_size=2))\n",
        "# model.add(Conv1D(50,kernel_size=5,activation='relu'))\n",
        "model.add(LSTM(50,return_sequences=True,input_shape=(100,1)))\n",
        "model.add(Bidirectional(LSTM(50,return_sequences=True)))\n",
        "model.add(Bidirectional(LSTM(50,return_sequences=True)))\n",
        "model.add(Bidirectional(LSTM(50)))\n",
        "# model.add(LSTM(50,return_sequences=True,input_shape=(100,1)))\n",
        "# # model.add(LSTM(50,return_sequences=True))\n",
        "# model.add(LSTM(50,return_sequences=True))\n",
        "# model.add(LSTM(50))\n",
        "# model.add(Flatten())\n",
        "model.add(Dense(1))\n",
        "model.compile(loss='mean_squared_error',optimizer='adam')\n",
        "# model.compile(loss='mse', optimizer='adam', metrics=['mae', root_mean_squared_error])\n"
      ],
      "execution_count": null,
      "outputs": []
    },
    {
      "cell_type": "code",
      "metadata": {
        "colab": {
          "base_uri": "https://localhost:8080/"
        },
        "id": "NTKeqLpql-az",
        "outputId": "d453a3f3-0777-4318-cb6e-dbd3671ab8f6"
      },
      "source": [
        "model.summary()"
      ],
      "execution_count": null,
      "outputs": [
        {
          "output_type": "stream",
          "name": "stdout",
          "text": [
            "Model: \"sequential_5\"\n",
            "_________________________________________________________________\n",
            " Layer (type)                Output Shape              Param #   \n",
            "=================================================================\n",
            " lstm_6 (LSTM)               (None, 100, 50)           10400     \n",
            "                                                                 \n",
            " bidirectional_3 (Bidirectio  (None, 100, 100)         40400     \n",
            " nal)                                                            \n",
            "                                                                 \n",
            " bidirectional_4 (Bidirectio  (None, 100, 100)         60400     \n",
            " nal)                                                            \n",
            "                                                                 \n",
            " bidirectional_5 (Bidirectio  (None, 100)              60400     \n",
            " nal)                                                            \n",
            "                                                                 \n",
            " dense_4 (Dense)             (None, 1)                 101       \n",
            "                                                                 \n",
            "=================================================================\n",
            "Total params: 171,701\n",
            "Trainable params: 171,701\n",
            "Non-trainable params: 0\n",
            "_________________________________________________________________\n"
          ]
        }
      ]
    },
    {
      "cell_type": "code",
      "metadata": {
        "colab": {
          "base_uri": "https://localhost:8080/"
        },
        "id": "MonF3nxal-az",
        "outputId": "562ec577-1349-4078-e20c-91159eb010ce"
      },
      "source": [
        "model.fit(X_train,y_train,validation_data=(X_test,y_test),epochs=15,batch_size=32,verbose=1)"
      ],
      "execution_count": null,
      "outputs": [
        {
          "output_type": "stream",
          "name": "stdout",
          "text": [
            "Epoch 1/15\n",
            "36/36 [==============================] - 21s 324ms/step - loss: 0.0071 - val_loss: 0.0052\n",
            "Epoch 2/15\n",
            "36/36 [==============================] - 9s 249ms/step - loss: 8.3330e-04 - val_loss: 0.0067\n",
            "Epoch 3/15\n",
            "36/36 [==============================] - 9s 246ms/step - loss: 5.2258e-04 - val_loss: 0.0220\n",
            "Epoch 4/15\n",
            "36/36 [==============================] - 9s 246ms/step - loss: 5.0563e-04 - val_loss: 0.0171\n",
            "Epoch 5/15\n",
            "36/36 [==============================] - 9s 246ms/step - loss: 4.4345e-04 - val_loss: 0.0108\n",
            "Epoch 6/15\n",
            "36/36 [==============================] - 10s 274ms/step - loss: 3.9648e-04 - val_loss: 0.0217\n",
            "Epoch 7/15\n",
            "36/36 [==============================] - 9s 246ms/step - loss: 3.8172e-04 - val_loss: 0.0232\n",
            "Epoch 8/15\n",
            "36/36 [==============================] - 9s 246ms/step - loss: 3.5098e-04 - val_loss: 0.0190\n",
            "Epoch 9/15\n",
            "36/36 [==============================] - 9s 248ms/step - loss: 3.6534e-04 - val_loss: 0.0149\n",
            "Epoch 10/15\n",
            "36/36 [==============================] - 9s 247ms/step - loss: 3.2447e-04 - val_loss: 0.0233\n",
            "Epoch 11/15\n",
            "36/36 [==============================] - 9s 247ms/step - loss: 3.3887e-04 - val_loss: 0.0179\n",
            "Epoch 12/15\n",
            "36/36 [==============================] - 11s 298ms/step - loss: 3.1371e-04 - val_loss: 0.0134\n",
            "Epoch 13/15\n",
            "36/36 [==============================] - 9s 248ms/step - loss: 3.5145e-04 - val_loss: 0.0200\n",
            "Epoch 14/15\n",
            "36/36 [==============================] - 9s 250ms/step - loss: 3.5780e-04 - val_loss: 0.0271\n",
            "Epoch 15/15\n",
            "36/36 [==============================] - 9s 251ms/step - loss: 3.0739e-04 - val_loss: 0.0233\n"
          ]
        },
        {
          "output_type": "execute_result",
          "data": {
            "text/plain": [
              "<keras.callbacks.History at 0x7faa40bbb4d0>"
            ]
          },
          "metadata": {},
          "execution_count": 90
        }
      ]
    },
    {
      "cell_type": "code",
      "metadata": {
        "id": "ckwpRJi_l-a0"
      },
      "source": [
        "###  prediction and check performance metrics\n",
        "\n",
        "train_predict=model.predict(X_train)\n",
        "test_predict=model.predict(X_test)"
      ],
      "execution_count": null,
      "outputs": []
    },
    {
      "cell_type": "code",
      "metadata": {
        "id": "WrQAXfi-l-a0"
      },
      "source": [
        "## Transformback to original form\n",
        "\n",
        "train_predict=scaler.inverse_transform(train_predict)\n",
        "test_predict=scaler.inverse_transform(test_predict)"
      ],
      "execution_count": null,
      "outputs": []
    },
    {
      "cell_type": "markdown",
      "source": [
        "These results have been performed separately"
      ],
      "metadata": {
        "id": "jkuyZZtxzWRy"
      }
    },
    {
      "cell_type": "code",
      "source": [
        "### amzn bilstm mae\n",
        "\n",
        "from sklearn.metrics import mean_absolute_error\n",
        "mean_absolute_error(y_test, test_predict)"
      ],
      "metadata": {
        "colab": {
          "base_uri": "https://localhost:8080/"
        },
        "id": "aC8pKgI54fWt",
        "outputId": "ac346b7c-a55a-484e-b98a-744ba628b770"
      },
      "execution_count": null,
      "outputs": [
        {
          "output_type": "execute_result",
          "data": {
            "text/plain": [
              "2934.1630601972342"
            ]
          },
          "metadata": {},
          "execution_count": 69
        }
      ]
    },
    {
      "cell_type": "code",
      "source": [
        "##  amzn bilstm rmse\n",
        "\n",
        "import math\n",
        "from sklearn.metrics import mean_squared_error\n",
        "math.sqrt(mean_squared_error(y_test, test_predict))"
      ],
      "metadata": {
        "colab": {
          "base_uri": "https://localhost:8080/"
        },
        "id": "2YsJqkFu4lwk",
        "outputId": "18304138-71c7-48ec-a9f2-e945ff52f73c"
      },
      "execution_count": null,
      "outputs": [
        {
          "output_type": "execute_result",
          "data": {
            "text/plain": [
              "2936.4498640127968"
            ]
          },
          "metadata": {},
          "execution_count": 70
        }
      ]
    },
    {
      "cell_type": "code",
      "source": [
        "### amzn cnn mae\n",
        "\n",
        "from sklearn.metrics import mean_absolute_error\n",
        "mean_absolute_error(y_test, test_predict)"
      ],
      "metadata": {
        "colab": {
          "base_uri": "https://localhost:8080/"
        },
        "id": "b6SKzor23mKB",
        "outputId": "b2f0a213-cb8a-4d80-996b-68a792fadfc6"
      },
      "execution_count": null,
      "outputs": [
        {
          "output_type": "execute_result",
          "data": {
            "text/plain": [
              "3077.6384153716776"
            ]
          },
          "metadata": {},
          "execution_count": 62
        }
      ]
    },
    {
      "cell_type": "code",
      "source": [
        "##  amzn cnn rmse\n",
        "\n",
        "import math\n",
        "from sklearn.metrics import mean_squared_error\n",
        "math.sqrt(mean_squared_error(y_test, test_predict))"
      ],
      "metadata": {
        "colab": {
          "base_uri": "https://localhost:8080/"
        },
        "id": "Usg50I1n3pS6",
        "outputId": "397499db-cefa-4bca-bad8-dda259a357b2"
      },
      "execution_count": null,
      "outputs": [
        {
          "output_type": "execute_result",
          "data": {
            "text/plain": [
              "3080.6268141047353"
            ]
          },
          "metadata": {},
          "execution_count": 63
        }
      ]
    },
    {
      "cell_type": "code",
      "source": [
        "### FB bilstm mae\n",
        "\n",
        "from sklearn.metrics import mean_absolute_error\n",
        "mean_absolute_error(y_test, test_predict)"
      ],
      "metadata": {
        "colab": {
          "base_uri": "https://localhost:8080/"
        },
        "id": "8IEijOBd5f-2",
        "outputId": "726e85e2-0e58-4b37-8239-311164d555b0"
      },
      "execution_count": null,
      "outputs": [
        {
          "output_type": "execute_result",
          "data": {
            "text/plain": [
              "257.0512405431462"
            ]
          },
          "metadata": {},
          "execution_count": 93
        }
      ]
    },
    {
      "cell_type": "code",
      "source": [
        "### FB cnn mae\n",
        "\n",
        "from sklearn.metrics import mean_absolute_error\n",
        "mean_absolute_error(y_test, test_predict)"
      ],
      "metadata": {
        "colab": {
          "base_uri": "https://localhost:8080/"
        },
        "id": "WsSG1c373EMY",
        "outputId": "df3f73d8-d309-46b9-c36a-ce345bf817d7"
      },
      "execution_count": null,
      "outputs": [
        {
          "output_type": "execute_result",
          "data": {
            "text/plain": [
              "289.22506507292474"
            ]
          },
          "metadata": {},
          "execution_count": 38
        }
      ]
    },
    {
      "cell_type": "code",
      "source": [
        "##  fb bilstm rmse\n",
        "\n",
        "import math\n",
        "from sklearn.metrics import mean_squared_error\n",
        "math.sqrt(mean_squared_error(y_test, test_predict))"
      ],
      "metadata": {
        "id": "ZuQpUFIg5i42",
        "outputId": "74ea9334-ba40-4bf0-d493-2eca5fe5832c",
        "colab": {
          "base_uri": "https://localhost:8080/"
        }
      },
      "execution_count": null,
      "outputs": [
        {
          "output_type": "execute_result",
          "data": {
            "text/plain": [
              "259.75057446948085"
            ]
          },
          "metadata": {},
          "execution_count": 94
        }
      ]
    },
    {
      "cell_type": "code",
      "source": [
        "##  fb cnn rmse\n",
        "\n",
        "import math\n",
        "from sklearn.metrics import mean_squared_error\n",
        "math.sqrt(mean_squared_error(y_test, test_predict))"
      ],
      "metadata": {
        "colab": {
          "base_uri": "https://localhost:8080/"
        },
        "id": "M83BsGEF3G04",
        "outputId": "ab3b2bec-16dc-4fa8-95cf-81963d29879b"
      },
      "execution_count": null,
      "outputs": [
        {
          "output_type": "execute_result",
          "data": {
            "text/plain": [
              "291.2722907910683"
            ]
          },
          "metadata": {},
          "execution_count": 39
        }
      ]
    },
    {
      "cell_type": "code",
      "source": [
        "### FB cnn-bilstm mae\n",
        "\n",
        "from sklearn.metrics import mean_absolute_error\n",
        "mean_absolute_error(y_test, test_predict)"
      ],
      "metadata": {
        "colab": {
          "base_uri": "https://localhost:8080/"
        },
        "id": "Wm9r5O0YZ_Uj",
        "outputId": "cbdbb2d2-4a46-4d69-ddd9-5a176ba1d62c"
      },
      "execution_count": null,
      "outputs": [
        {
          "output_type": "execute_result",
          "data": {
            "text/plain": [
              "242.65917833243614"
            ]
          },
          "metadata": {},
          "execution_count": 26
        }
      ]
    },
    {
      "cell_type": "code",
      "source": [
        "## cnn-bilstm fb rmse\n",
        "\n",
        "import math\n",
        "from sklearn.metrics import mean_squared_error\n",
        "math.sqrt(mean_squared_error(y_test, test_predict))"
      ],
      "metadata": {
        "colab": {
          "base_uri": "https://localhost:8080/"
        },
        "id": "_-nUP4dTadNc",
        "outputId": "5a61c413-8409-4e2f-92d0-97328b561307"
      },
      "execution_count": null,
      "outputs": [
        {
          "output_type": "execute_result",
          "data": {
            "text/plain": [
              "243.82328818883047"
            ]
          },
          "metadata": {},
          "execution_count": 27
        }
      ]
    },
    {
      "cell_type": "code",
      "source": [
        "### amzn cnn-bilstm mae\n",
        "\n",
        "from sklearn.metrics import mean_absolute_error\n",
        "mean_absolute_error(y_test, test_predict)"
      ],
      "metadata": {
        "colab": {
          "base_uri": "https://localhost:8080/"
        },
        "id": "HISx9GzbarT_",
        "outputId": "c094da18-2d72-42b2-efe4-9ba36ecac564"
      },
      "execution_count": null,
      "outputs": [
        {
          "output_type": "execute_result",
          "data": {
            "text/plain": [
              "2608.0621525292117"
            ]
          },
          "metadata": {},
          "execution_count": 241
        }
      ]
    },
    {
      "cell_type": "code",
      "source": [
        "## cnn-bilstm amzn rmse\n",
        "\n",
        "import math\n",
        "from sklearn.metrics import mean_squared_error\n",
        "math.sqrt(mean_squared_error(y_test, test_predict))"
      ],
      "metadata": {
        "colab": {
          "base_uri": "https://localhost:8080/"
        },
        "id": "vMxtO2mFafhM",
        "outputId": "7bcf7c22-d6a9-4184-cbf7-96cedceea9ac"
      },
      "execution_count": null,
      "outputs": [
        {
          "output_type": "execute_result",
          "data": {
            "text/plain": [
              "2609.7984875329935"
            ]
          },
          "metadata": {},
          "execution_count": 242
        }
      ]
    },
    {
      "cell_type": "markdown",
      "source": [
        "## Transformer model"
      ],
      "metadata": {
        "id": "3vHsV8iw7r6c"
      }
    },
    {
      "cell_type": "code",
      "source": [
        "!pip install yfinance\n",
        "import yfinance as yf\n",
        "import numpy as np\n",
        "import pandas as pd"
      ],
      "metadata": {
        "id": "sx5gPDdG7u0y",
        "colab": {
          "base_uri": "https://localhost:8080/"
        },
        "outputId": "91564b53-6c0f-4dfd-c8a2-7b945a0d7be4"
      },
      "execution_count": null,
      "outputs": [
        {
          "output_type": "stream",
          "name": "stdout",
          "text": [
            "Requirement already satisfied: yfinance in /usr/local/lib/python3.7/dist-packages (0.1.70)\n",
            "Requirement already satisfied: numpy>=1.15 in /usr/local/lib/python3.7/dist-packages (from yfinance) (1.21.5)\n",
            "Requirement already satisfied: multitasking>=0.0.7 in /usr/local/lib/python3.7/dist-packages (from yfinance) (0.0.10)\n",
            "Requirement already satisfied: lxml>=4.5.1 in /usr/local/lib/python3.7/dist-packages (from yfinance) (4.8.0)\n",
            "Requirement already satisfied: requests>=2.26 in /usr/local/lib/python3.7/dist-packages (from yfinance) (2.27.1)\n",
            "Requirement already satisfied: pandas>=0.24.0 in /usr/local/lib/python3.7/dist-packages (from yfinance) (1.3.5)\n",
            "Requirement already satisfied: pytz>=2017.3 in /usr/local/lib/python3.7/dist-packages (from pandas>=0.24.0->yfinance) (2018.9)\n",
            "Requirement already satisfied: python-dateutil>=2.7.3 in /usr/local/lib/python3.7/dist-packages (from pandas>=0.24.0->yfinance) (2.8.2)\n",
            "Requirement already satisfied: six>=1.5 in /usr/local/lib/python3.7/dist-packages (from python-dateutil>=2.7.3->pandas>=0.24.0->yfinance) (1.15.0)\n",
            "Requirement already satisfied: idna<4,>=2.5 in /usr/local/lib/python3.7/dist-packages (from requests>=2.26->yfinance) (2.10)\n",
            "Requirement already satisfied: certifi>=2017.4.17 in /usr/local/lib/python3.7/dist-packages (from requests>=2.26->yfinance) (2021.10.8)\n",
            "Requirement already satisfied: urllib3<1.27,>=1.21.1 in /usr/local/lib/python3.7/dist-packages (from requests>=2.26->yfinance) (1.24.3)\n",
            "Requirement already satisfied: charset-normalizer~=2.0.0 in /usr/local/lib/python3.7/dist-packages (from requests>=2.26->yfinance) (2.0.12)\n"
          ]
        }
      ]
    },
    {
      "cell_type": "markdown",
      "source": [
        "Overview of data"
      ],
      "metadata": {
        "id": "pytmzNb606VI"
      }
    },
    {
      "cell_type": "code",
      "source": [
        "df= yf.download(\"FB\", start=\"2014-7-29\", end=\"2021-12-13\")\n",
        "\n",
        "print(len(df))"
      ],
      "metadata": {
        "colab": {
          "base_uri": "https://localhost:8080/"
        },
        "id": "Uw3YMBLdlqGS",
        "outputId": "312566b5-7023-4f9f-a9e2-78b9ae0618a9"
      },
      "execution_count": null,
      "outputs": [
        {
          "output_type": "stream",
          "name": "stdout",
          "text": [
            "\r[*********************100%***********************]  1 of 1 completed\n",
            "1858\n"
          ]
        }
      ]
    },
    {
      "cell_type": "code",
      "source": [
        "df1=df.reset_index()['Adj Close']\n",
        "df1"
      ],
      "metadata": {
        "colab": {
          "base_uri": "https://localhost:8080/"
        },
        "id": "921Nf_hvjIjC",
        "outputId": "0818bc80-6bac-4425-f9af-b551c6674f3e"
      },
      "execution_count": null,
      "outputs": [
        {
          "output_type": "execute_result",
          "data": {
            "text/plain": [
              "0        73.709999\n",
              "1        74.680000\n",
              "2        72.650002\n",
              "3        72.360001\n",
              "4        73.510002\n",
              "           ...    \n",
              "1853    317.869995\n",
              "1854    322.809998\n",
              "1855    330.559998\n",
              "1856    329.820007\n",
              "1857    329.750000\n",
              "Name: Adj Close, Length: 1858, dtype: float64"
            ]
          },
          "metadata": {},
          "execution_count": 163
        }
      ]
    },
    {
      "cell_type": "code",
      "source": [
        "df.head()"
      ],
      "metadata": {
        "colab": {
          "base_uri": "https://localhost:8080/",
          "height": 238
        },
        "id": "vjp-BsGZmSzk",
        "outputId": "980d453a-82ac-4b64-92ce-73d91891f66b"
      },
      "execution_count": null,
      "outputs": [
        {
          "output_type": "execute_result",
          "data": {
            "text/plain": [
              "                 Open       High        Low      Close  Adj Close    Volume\n",
              "Date                                                                       \n",
              "2014-07-29  74.720001  74.919998  73.419998  73.709999  73.709999  41324000\n",
              "2014-07-30  74.209999  75.190002  74.129997  74.680000  74.680000  36853000\n",
              "2014-07-31  74.000000  74.169998  72.440002  72.650002  72.650002  43992000\n",
              "2014-08-01  72.220001  73.220001  71.550003  72.360001  72.360001  43535000\n",
              "2014-08-04  72.360001  73.879997  72.360001  73.510002  73.510002  30777000"
            ],
            "text/html": [
              "\n",
              "  <div id=\"df-984b77c3-d245-43cd-8594-39cbf39322b9\">\n",
              "    <div class=\"colab-df-container\">\n",
              "      <div>\n",
              "<style scoped>\n",
              "    .dataframe tbody tr th:only-of-type {\n",
              "        vertical-align: middle;\n",
              "    }\n",
              "\n",
              "    .dataframe tbody tr th {\n",
              "        vertical-align: top;\n",
              "    }\n",
              "\n",
              "    .dataframe thead th {\n",
              "        text-align: right;\n",
              "    }\n",
              "</style>\n",
              "<table border=\"1\" class=\"dataframe\">\n",
              "  <thead>\n",
              "    <tr style=\"text-align: right;\">\n",
              "      <th></th>\n",
              "      <th>Open</th>\n",
              "      <th>High</th>\n",
              "      <th>Low</th>\n",
              "      <th>Close</th>\n",
              "      <th>Adj Close</th>\n",
              "      <th>Volume</th>\n",
              "    </tr>\n",
              "    <tr>\n",
              "      <th>Date</th>\n",
              "      <th></th>\n",
              "      <th></th>\n",
              "      <th></th>\n",
              "      <th></th>\n",
              "      <th></th>\n",
              "      <th></th>\n",
              "    </tr>\n",
              "  </thead>\n",
              "  <tbody>\n",
              "    <tr>\n",
              "      <th>2014-07-29</th>\n",
              "      <td>74.720001</td>\n",
              "      <td>74.919998</td>\n",
              "      <td>73.419998</td>\n",
              "      <td>73.709999</td>\n",
              "      <td>73.709999</td>\n",
              "      <td>41324000</td>\n",
              "    </tr>\n",
              "    <tr>\n",
              "      <th>2014-07-30</th>\n",
              "      <td>74.209999</td>\n",
              "      <td>75.190002</td>\n",
              "      <td>74.129997</td>\n",
              "      <td>74.680000</td>\n",
              "      <td>74.680000</td>\n",
              "      <td>36853000</td>\n",
              "    </tr>\n",
              "    <tr>\n",
              "      <th>2014-07-31</th>\n",
              "      <td>74.000000</td>\n",
              "      <td>74.169998</td>\n",
              "      <td>72.440002</td>\n",
              "      <td>72.650002</td>\n",
              "      <td>72.650002</td>\n",
              "      <td>43992000</td>\n",
              "    </tr>\n",
              "    <tr>\n",
              "      <th>2014-08-01</th>\n",
              "      <td>72.220001</td>\n",
              "      <td>73.220001</td>\n",
              "      <td>71.550003</td>\n",
              "      <td>72.360001</td>\n",
              "      <td>72.360001</td>\n",
              "      <td>43535000</td>\n",
              "    </tr>\n",
              "    <tr>\n",
              "      <th>2014-08-04</th>\n",
              "      <td>72.360001</td>\n",
              "      <td>73.879997</td>\n",
              "      <td>72.360001</td>\n",
              "      <td>73.510002</td>\n",
              "      <td>73.510002</td>\n",
              "      <td>30777000</td>\n",
              "    </tr>\n",
              "  </tbody>\n",
              "</table>\n",
              "</div>\n",
              "      <button class=\"colab-df-convert\" onclick=\"convertToInteractive('df-984b77c3-d245-43cd-8594-39cbf39322b9')\"\n",
              "              title=\"Convert this dataframe to an interactive table.\"\n",
              "              style=\"display:none;\">\n",
              "        \n",
              "  <svg xmlns=\"http://www.w3.org/2000/svg\" height=\"24px\"viewBox=\"0 0 24 24\"\n",
              "       width=\"24px\">\n",
              "    <path d=\"M0 0h24v24H0V0z\" fill=\"none\"/>\n",
              "    <path d=\"M18.56 5.44l.94 2.06.94-2.06 2.06-.94-2.06-.94-.94-2.06-.94 2.06-2.06.94zm-11 1L8.5 8.5l.94-2.06 2.06-.94-2.06-.94L8.5 2.5l-.94 2.06-2.06.94zm10 10l.94 2.06.94-2.06 2.06-.94-2.06-.94-.94-2.06-.94 2.06-2.06.94z\"/><path d=\"M17.41 7.96l-1.37-1.37c-.4-.4-.92-.59-1.43-.59-.52 0-1.04.2-1.43.59L10.3 9.45l-7.72 7.72c-.78.78-.78 2.05 0 2.83L4 21.41c.39.39.9.59 1.41.59.51 0 1.02-.2 1.41-.59l7.78-7.78 2.81-2.81c.8-.78.8-2.07 0-2.86zM5.41 20L4 18.59l7.72-7.72 1.47 1.35L5.41 20z\"/>\n",
              "  </svg>\n",
              "      </button>\n",
              "      \n",
              "  <style>\n",
              "    .colab-df-container {\n",
              "      display:flex;\n",
              "      flex-wrap:wrap;\n",
              "      gap: 12px;\n",
              "    }\n",
              "\n",
              "    .colab-df-convert {\n",
              "      background-color: #E8F0FE;\n",
              "      border: none;\n",
              "      border-radius: 50%;\n",
              "      cursor: pointer;\n",
              "      display: none;\n",
              "      fill: #1967D2;\n",
              "      height: 32px;\n",
              "      padding: 0 0 0 0;\n",
              "      width: 32px;\n",
              "    }\n",
              "\n",
              "    .colab-df-convert:hover {\n",
              "      background-color: #E2EBFA;\n",
              "      box-shadow: 0px 1px 2px rgba(60, 64, 67, 0.3), 0px 1px 3px 1px rgba(60, 64, 67, 0.15);\n",
              "      fill: #174EA6;\n",
              "    }\n",
              "\n",
              "    [theme=dark] .colab-df-convert {\n",
              "      background-color: #3B4455;\n",
              "      fill: #D2E3FC;\n",
              "    }\n",
              "\n",
              "    [theme=dark] .colab-df-convert:hover {\n",
              "      background-color: #434B5C;\n",
              "      box-shadow: 0px 1px 3px 1px rgba(0, 0, 0, 0.15);\n",
              "      filter: drop-shadow(0px 1px 2px rgba(0, 0, 0, 0.3));\n",
              "      fill: #FFFFFF;\n",
              "    }\n",
              "  </style>\n",
              "\n",
              "      <script>\n",
              "        const buttonEl =\n",
              "          document.querySelector('#df-984b77c3-d245-43cd-8594-39cbf39322b9 button.colab-df-convert');\n",
              "        buttonEl.style.display =\n",
              "          google.colab.kernel.accessAllowed ? 'block' : 'none';\n",
              "\n",
              "        async function convertToInteractive(key) {\n",
              "          const element = document.querySelector('#df-984b77c3-d245-43cd-8594-39cbf39322b9');\n",
              "          const dataTable =\n",
              "            await google.colab.kernel.invokeFunction('convertToInteractive',\n",
              "                                                     [key], {});\n",
              "          if (!dataTable) return;\n",
              "\n",
              "          const docLinkHtml = 'Like what you see? Visit the ' +\n",
              "            '<a target=\"_blank\" href=https://colab.research.google.com/notebooks/data_table.ipynb>data table notebook</a>'\n",
              "            + ' to learn more about interactive tables.';\n",
              "          element.innerHTML = '';\n",
              "          dataTable['output_type'] = 'display_data';\n",
              "          await google.colab.output.renderOutput(dataTable, element);\n",
              "          const docLink = document.createElement('div');\n",
              "          docLink.innerHTML = docLinkHtml;\n",
              "          element.appendChild(docLink);\n",
              "        }\n",
              "      </script>\n",
              "    </div>\n",
              "  </div>\n",
              "  "
            ]
          },
          "metadata": {},
          "execution_count": 165
        }
      ]
    },
    {
      "cell_type": "code",
      "source": [
        "df.drop(columns=['Close'], inplace=True)\n",
        "df=df.reset_index()"
      ],
      "metadata": {
        "id": "eevekGMgz97m"
      },
      "execution_count": null,
      "outputs": []
    },
    {
      "cell_type": "code",
      "source": [
        "df.drop(columns=['Date'], inplace=True)\n",
        "df"
      ],
      "metadata": {
        "colab": {
          "base_uri": "https://localhost:8080/",
          "height": 424
        },
        "id": "lBYyJGZH9VyF",
        "outputId": "964f7377-c74e-4e6a-9520-b246bb9eaa7b"
      },
      "execution_count": null,
      "outputs": [
        {
          "output_type": "execute_result",
          "data": {
            "text/plain": [
              "            Open        High         Low   Adj Close    Volume\n",
              "0      74.720001   74.919998   73.419998   73.709999  41324000\n",
              "1      74.209999   75.190002   74.129997   74.680000  36853000\n",
              "2      74.000000   74.169998   72.440002   72.650002  43992000\n",
              "3      72.220001   73.220001   71.550003   72.360001  43535000\n",
              "4      72.360001   73.879997   72.360001   73.510002  30777000\n",
              "...          ...         ...         ...         ...       ...\n",
              "1853  308.130005  320.100006  306.339996  317.869995  21758300\n",
              "1854  321.570007  326.540009  321.000000  322.809998  18794000\n",
              "1855  325.000000  332.750000  323.070007  330.559998  19937700\n",
              "1856  329.540009  336.130005  328.000000  329.820007  16879200\n",
              "1857  332.559998  335.029999  326.369995  329.750000  14528000\n",
              "\n",
              "[1858 rows x 5 columns]"
            ],
            "text/html": [
              "\n",
              "  <div id=\"df-43445e6e-d387-449f-a429-fa2cdc38655a\">\n",
              "    <div class=\"colab-df-container\">\n",
              "      <div>\n",
              "<style scoped>\n",
              "    .dataframe tbody tr th:only-of-type {\n",
              "        vertical-align: middle;\n",
              "    }\n",
              "\n",
              "    .dataframe tbody tr th {\n",
              "        vertical-align: top;\n",
              "    }\n",
              "\n",
              "    .dataframe thead th {\n",
              "        text-align: right;\n",
              "    }\n",
              "</style>\n",
              "<table border=\"1\" class=\"dataframe\">\n",
              "  <thead>\n",
              "    <tr style=\"text-align: right;\">\n",
              "      <th></th>\n",
              "      <th>Open</th>\n",
              "      <th>High</th>\n",
              "      <th>Low</th>\n",
              "      <th>Adj Close</th>\n",
              "      <th>Volume</th>\n",
              "    </tr>\n",
              "  </thead>\n",
              "  <tbody>\n",
              "    <tr>\n",
              "      <th>0</th>\n",
              "      <td>74.720001</td>\n",
              "      <td>74.919998</td>\n",
              "      <td>73.419998</td>\n",
              "      <td>73.709999</td>\n",
              "      <td>41324000</td>\n",
              "    </tr>\n",
              "    <tr>\n",
              "      <th>1</th>\n",
              "      <td>74.209999</td>\n",
              "      <td>75.190002</td>\n",
              "      <td>74.129997</td>\n",
              "      <td>74.680000</td>\n",
              "      <td>36853000</td>\n",
              "    </tr>\n",
              "    <tr>\n",
              "      <th>2</th>\n",
              "      <td>74.000000</td>\n",
              "      <td>74.169998</td>\n",
              "      <td>72.440002</td>\n",
              "      <td>72.650002</td>\n",
              "      <td>43992000</td>\n",
              "    </tr>\n",
              "    <tr>\n",
              "      <th>3</th>\n",
              "      <td>72.220001</td>\n",
              "      <td>73.220001</td>\n",
              "      <td>71.550003</td>\n",
              "      <td>72.360001</td>\n",
              "      <td>43535000</td>\n",
              "    </tr>\n",
              "    <tr>\n",
              "      <th>4</th>\n",
              "      <td>72.360001</td>\n",
              "      <td>73.879997</td>\n",
              "      <td>72.360001</td>\n",
              "      <td>73.510002</td>\n",
              "      <td>30777000</td>\n",
              "    </tr>\n",
              "    <tr>\n",
              "      <th>...</th>\n",
              "      <td>...</td>\n",
              "      <td>...</td>\n",
              "      <td>...</td>\n",
              "      <td>...</td>\n",
              "      <td>...</td>\n",
              "    </tr>\n",
              "    <tr>\n",
              "      <th>1853</th>\n",
              "      <td>308.130005</td>\n",
              "      <td>320.100006</td>\n",
              "      <td>306.339996</td>\n",
              "      <td>317.869995</td>\n",
              "      <td>21758300</td>\n",
              "    </tr>\n",
              "    <tr>\n",
              "      <th>1854</th>\n",
              "      <td>321.570007</td>\n",
              "      <td>326.540009</td>\n",
              "      <td>321.000000</td>\n",
              "      <td>322.809998</td>\n",
              "      <td>18794000</td>\n",
              "    </tr>\n",
              "    <tr>\n",
              "      <th>1855</th>\n",
              "      <td>325.000000</td>\n",
              "      <td>332.750000</td>\n",
              "      <td>323.070007</td>\n",
              "      <td>330.559998</td>\n",
              "      <td>19937700</td>\n",
              "    </tr>\n",
              "    <tr>\n",
              "      <th>1856</th>\n",
              "      <td>329.540009</td>\n",
              "      <td>336.130005</td>\n",
              "      <td>328.000000</td>\n",
              "      <td>329.820007</td>\n",
              "      <td>16879200</td>\n",
              "    </tr>\n",
              "    <tr>\n",
              "      <th>1857</th>\n",
              "      <td>332.559998</td>\n",
              "      <td>335.029999</td>\n",
              "      <td>326.369995</td>\n",
              "      <td>329.750000</td>\n",
              "      <td>14528000</td>\n",
              "    </tr>\n",
              "  </tbody>\n",
              "</table>\n",
              "<p>1858 rows × 5 columns</p>\n",
              "</div>\n",
              "      <button class=\"colab-df-convert\" onclick=\"convertToInteractive('df-43445e6e-d387-449f-a429-fa2cdc38655a')\"\n",
              "              title=\"Convert this dataframe to an interactive table.\"\n",
              "              style=\"display:none;\">\n",
              "        \n",
              "  <svg xmlns=\"http://www.w3.org/2000/svg\" height=\"24px\"viewBox=\"0 0 24 24\"\n",
              "       width=\"24px\">\n",
              "    <path d=\"M0 0h24v24H0V0z\" fill=\"none\"/>\n",
              "    <path d=\"M18.56 5.44l.94 2.06.94-2.06 2.06-.94-2.06-.94-.94-2.06-.94 2.06-2.06.94zm-11 1L8.5 8.5l.94-2.06 2.06-.94-2.06-.94L8.5 2.5l-.94 2.06-2.06.94zm10 10l.94 2.06.94-2.06 2.06-.94-2.06-.94-.94-2.06-.94 2.06-2.06.94z\"/><path d=\"M17.41 7.96l-1.37-1.37c-.4-.4-.92-.59-1.43-.59-.52 0-1.04.2-1.43.59L10.3 9.45l-7.72 7.72c-.78.78-.78 2.05 0 2.83L4 21.41c.39.39.9.59 1.41.59.51 0 1.02-.2 1.41-.59l7.78-7.78 2.81-2.81c.8-.78.8-2.07 0-2.86zM5.41 20L4 18.59l7.72-7.72 1.47 1.35L5.41 20z\"/>\n",
              "  </svg>\n",
              "      </button>\n",
              "      \n",
              "  <style>\n",
              "    .colab-df-container {\n",
              "      display:flex;\n",
              "      flex-wrap:wrap;\n",
              "      gap: 12px;\n",
              "    }\n",
              "\n",
              "    .colab-df-convert {\n",
              "      background-color: #E8F0FE;\n",
              "      border: none;\n",
              "      border-radius: 50%;\n",
              "      cursor: pointer;\n",
              "      display: none;\n",
              "      fill: #1967D2;\n",
              "      height: 32px;\n",
              "      padding: 0 0 0 0;\n",
              "      width: 32px;\n",
              "    }\n",
              "\n",
              "    .colab-df-convert:hover {\n",
              "      background-color: #E2EBFA;\n",
              "      box-shadow: 0px 1px 2px rgba(60, 64, 67, 0.3), 0px 1px 3px 1px rgba(60, 64, 67, 0.15);\n",
              "      fill: #174EA6;\n",
              "    }\n",
              "\n",
              "    [theme=dark] .colab-df-convert {\n",
              "      background-color: #3B4455;\n",
              "      fill: #D2E3FC;\n",
              "    }\n",
              "\n",
              "    [theme=dark] .colab-df-convert:hover {\n",
              "      background-color: #434B5C;\n",
              "      box-shadow: 0px 1px 3px 1px rgba(0, 0, 0, 0.15);\n",
              "      filter: drop-shadow(0px 1px 2px rgba(0, 0, 0, 0.3));\n",
              "      fill: #FFFFFF;\n",
              "    }\n",
              "  </style>\n",
              "\n",
              "      <script>\n",
              "        const buttonEl =\n",
              "          document.querySelector('#df-43445e6e-d387-449f-a429-fa2cdc38655a button.colab-df-convert');\n",
              "        buttonEl.style.display =\n",
              "          google.colab.kernel.accessAllowed ? 'block' : 'none';\n",
              "\n",
              "        async function convertToInteractive(key) {\n",
              "          const element = document.querySelector('#df-43445e6e-d387-449f-a429-fa2cdc38655a');\n",
              "          const dataTable =\n",
              "            await google.colab.kernel.invokeFunction('convertToInteractive',\n",
              "                                                     [key], {});\n",
              "          if (!dataTable) return;\n",
              "\n",
              "          const docLinkHtml = 'Like what you see? Visit the ' +\n",
              "            '<a target=\"_blank\" href=https://colab.research.google.com/notebooks/data_table.ipynb>data table notebook</a>'\n",
              "            + ' to learn more about interactive tables.';\n",
              "          element.innerHTML = '';\n",
              "          dataTable['output_type'] = 'display_data';\n",
              "          await google.colab.output.renderOutput(dataTable, element);\n",
              "          const docLink = document.createElement('div');\n",
              "          docLink.innerHTML = docLinkHtml;\n",
              "          element.appendChild(docLink);\n",
              "        }\n",
              "      </script>\n",
              "    </div>\n",
              "  </div>\n",
              "  "
            ]
          },
          "metadata": {},
          "execution_count": 167
        }
      ]
    },
    {
      "cell_type": "code",
      "source": [
        "train_data, val_data, test_data = np.split(df.sample(frac=1), [int(.75*len(df)),\n",
        "int(.85*len(df))])"
      ],
      "metadata": {
        "id": "NxGfjGRNZisC"
      },
      "execution_count": null,
      "outputs": []
    },
    {
      "cell_type": "code",
      "source": [
        "print(len(train_data),len(val_data),len(test_data))"
      ],
      "metadata": {
        "colab": {
          "base_uri": "https://localhost:8080/"
        },
        "id": "N2HRyvhBZngu",
        "outputId": "7bba9bc9-ca87-4aed-cfc8-5beb4a1ddfce"
      },
      "execution_count": null,
      "outputs": [
        {
          "output_type": "stream",
          "name": "stdout",
          "text": [
            "1393 186 279\n"
          ]
        }
      ]
    },
    {
      "cell_type": "code",
      "source": [
        "## splitting dataset into train and test split\n",
        "\n",
        "training_size=int(len(df1)*0.75)\n",
        "test_size=len(df1)-training_size\n",
        "val_size=int(0.1*training_size)\n",
        "training_size=int(0.9*training_size)\n",
        "\n",
        "train_data,val_data,test_data=df1[0:training_size,:],df1[training_size:training_size+val_size,:],df1[training_size+val_size:len(df1),:1]\n",
        "print(training_size,val_size,test_size)\n",
        "#1252 139 464"
      ],
      "metadata": {
        "colab": {
          "base_uri": "https://localhost:8080/"
        },
        "id": "o65Brg-hi3Td",
        "outputId": "df0aacc6-64fd-4298-bd7c-94ed8dfaeb6d"
      },
      "execution_count": null,
      "outputs": [
        {
          "output_type": "stream",
          "name": "stdout",
          "text": [
            "1252 139 464\n"
          ]
        }
      ]
    },
    {
      "cell_type": "code",
      "source": [
        "train_data.shape"
      ],
      "metadata": {
        "colab": {
          "base_uri": "https://localhost:8080/"
        },
        "id": "E3ELsQ5knd0r",
        "outputId": "70a28936-c3c8-4e78-d1d5-c3bd32be4b05"
      },
      "execution_count": null,
      "outputs": [
        {
          "output_type": "execute_result",
          "data": {
            "text/plain": [
              "(1392, 5)"
            ]
          },
          "metadata": {},
          "execution_count": 234
        }
      ]
    },
    {
      "cell_type": "code",
      "source": [
        "train_data.shape"
      ],
      "metadata": {
        "colab": {
          "base_uri": "https://localhost:8080/"
        },
        "id": "j3aJkclvkn8H",
        "outputId": "c8edc82d-f179-49fd-bc58-4ed3940d014d"
      },
      "execution_count": null,
      "outputs": [
        {
          "output_type": "execute_result",
          "data": {
            "text/plain": [
              "(1252, 1)"
            ]
          },
          "metadata": {},
          "execution_count": 219
        }
      ]
    },
    {
      "cell_type": "code",
      "source": [
        "#  Creratig Training , Test and validation data fro further processing\n",
        "\n",
        "seq_len=100\n",
        "X_train, y_train = [], []\n",
        "for i in range(seq_len, len(train_data)):\n",
        "  X_train.append(train_data[i-seq_len:i]) \n",
        "  y_train.append(train_data.iloc[:, 3].values[i])   ### prev 4 also .iloc\n",
        "X_train, y_train = np.array(X_train), np.array(y_train)\n",
        "\n",
        "\n",
        "# Validation data\n",
        "X_val, y_val = [], []\n",
        "for i in range(seq_len, len(val_data)):\n",
        "    X_val.append(val_data[i-seq_len:i])\n",
        "    y_val.append(val_data.iloc[:, 3].values[i])\n",
        "X_val, y_val = np.array(X_val), np.array(y_val)\n",
        "\n",
        "\n",
        "\n",
        "# Test data\n",
        "X_test, y_test = [], []\n",
        "for i in range(seq_len, len(test_data)):\n",
        "    X_test.append(test_data[i-seq_len:i])\n",
        "    y_test.append(test_data.iloc[:, 3].values[i])    \n",
        "X_test, y_test = np.array(X_test), np.array(y_test)\n",
        "\n",
        "print('Training set shape', X_train.shape, y_train.shape)\n",
        "print('Validation set shape', X_val.shape, y_val.shape)\n",
        "print('Testing set shape' ,X_test.shape, y_test.shape)"
      ],
      "metadata": {
        "colab": {
          "base_uri": "https://localhost:8080/"
        },
        "outputId": "47e682ed-838a-4c4d-b47d-c8fb49a63a53",
        "id": "LriIZbs7Zs_3"
      },
      "execution_count": null,
      "outputs": [
        {
          "output_type": "stream",
          "name": "stdout",
          "text": [
            "Training set shape (1292, 100, 5) (1292,)\n",
            "Validation set shape (85, 100, 5) (85,)\n",
            "Testing set shape (179, 100, 5) (179,)\n"
          ]
        }
      ]
    },
    {
      "cell_type": "code",
      "source": [
        "## Defining hypeparameters\n",
        "\n",
        "batch_size = 32\n",
        "d_k = 256\n",
        "d_v = 256\n",
        "n_heads = 12\n",
        "ff_dim = 256"
      ],
      "metadata": {
        "id": "t0w-SlFLeC0K"
      },
      "execution_count": null,
      "outputs": []
    },
    {
      "cell_type": "code",
      "source": [
        "from tensorflow.keras.layers import Layer"
      ],
      "metadata": {
        "id": "7OwDfYMP1FjN"
      },
      "execution_count": null,
      "outputs": []
    },
    {
      "cell_type": "code",
      "metadata": {
        "id": "dUawOlTD5ljR"
      },
      "source": [
        "### Time2Vector layer\n",
        "\n",
        "class Time2Vector(Layer):\n",
        "  def __init__(self, seq_len, **kwargs):\n",
        "    super(Time2Vector, self).__init__()\n",
        "    self.seq_len = seq_len\n",
        "\n",
        "  def build(self, input_shape):          \n",
        "    '''Initialize weights and biases with shape (batch, seq_len)'''\n",
        "    self.weights_linear = self.add_weight(name='weight_linear',\n",
        "                                shape=(int(self.seq_len),),\n",
        "                                initializer='uniform',\n",
        "                                trainable=True)\n",
        "    \n",
        "    self.bias_linear = self.add_weight(name='bias_linear',\n",
        "                                shape=(int(self.seq_len),),\n",
        "                                initializer='uniform',\n",
        "                                trainable=True)\n",
        "    \n",
        "    self.weights_periodic = self.add_weight(name='weight_periodic',\n",
        "                                shape=(int(self.seq_len),),\n",
        "                                initializer='uniform',\n",
        "                                trainable=True)\n",
        "\n",
        "    self.bias_periodic = self.add_weight(name='bias_periodic',\n",
        "                                shape=(int(self.seq_len),),\n",
        "                                initializer='uniform',\n",
        "                                trainable=True)\n",
        "\n",
        "  def call(self, x):\n",
        "    \n",
        "    x = tf.math.reduce_mean(x[:,:,:4], axis=-1)\n",
        "    time_linear = self.weights_linear * x + self.bias_linear # Linear time feature\n",
        "    time_linear = tf.expand_dims(time_linear, axis=-1) \n",
        "    \n",
        "    time_periodic = tf.math.sin(tf.multiply(x, self.weights_periodic) + self.bias_periodic)\n",
        "    time_periodic = tf.expand_dims(time_periodic, axis=-1) \n",
        "    return tf.concat([time_linear, time_periodic], axis=-1) # shape = (batch, seq_len, 2)\n",
        "   \n",
        "  def get_config(self): #\n",
        "    config = super().get_config().copy()\n",
        "    config.update({'seq_len': self.seq_len})\n",
        "    return config\n",
        "  "
      ],
      "execution_count": null,
      "outputs": []
    },
    {
      "cell_type": "code",
      "metadata": {
        "id": "2Veb1wu_5lhE"
      },
      "source": [
        "### SingleAttention Layer\n",
        "\n",
        "class SingleAttention(Layer):\n",
        "  def __init__(self, d_k, d_v):\n",
        "    super(SingleAttention, self).__init__()\n",
        "    self.d_k = d_k\n",
        "    self.d_v = d_v\n",
        "\n",
        "  def build(self, input_shape):\n",
        "    self.query = Dense(self.d_k, \n",
        "                       input_shape=input_shape, \n",
        "                       kernel_initializer='glorot_uniform', \n",
        "                       bias_initializer='glorot_uniform')\n",
        "    \n",
        "    self.key = Dense(self.d_k, \n",
        "                     input_shape=input_shape, \n",
        "                     kernel_initializer='glorot_uniform', \n",
        "                     bias_initializer='glorot_uniform')\n",
        "    \n",
        "    self.value = Dense(self.d_v, \n",
        "                       input_shape=input_shape, \n",
        "                       kernel_initializer='glorot_uniform', \n",
        "                       bias_initializer='glorot_uniform')\n",
        "\n",
        "  def call(self, inputs): # inputs = (in_seq, in_seq, in_seq)\n",
        "    q = self.query(inputs[0])\n",
        "    k = self.key(inputs[1])\n",
        "\n",
        "    attn_weights = tf.matmul(q, k, transpose_b=True)\n",
        "    attn_weights = tf.map_fn(lambda x: x/np.sqrt(self.d_k), attn_weights)\n",
        "    attn_weights = tf.nn.softmax(attn_weights, axis=-1)\n",
        "    \n",
        "    v = self.value(inputs[2])\n",
        "    attn_out = tf.matmul(attn_weights, v)\n",
        "    return attn_out    \n",
        "\n",
        "#############################################################################\n",
        "\n",
        "class MultiAttention(Layer):\n",
        "  def __init__(self, d_k, d_v, n_heads):\n",
        "    super(MultiAttention, self).__init__()\n",
        "    self.d_k = d_k\n",
        "    self.d_v = d_v\n",
        "    self.n_heads = n_heads\n",
        "    self.attn_heads = list()\n",
        "\n",
        "  def build(self, input_shape):\n",
        "    for n in range(self.n_heads):\n",
        "      self.attn_heads.append(SingleAttention(self.d_k, self.d_v))  \n",
        "    \n",
        "    # input_shape[0]=(batch, seq_len, 7), input_shape[0][-1]=7 \n",
        "    self.linear = Dense(input_shape[0][-1], \n",
        "                        input_shape=input_shape, \n",
        "                        kernel_initializer='glorot_uniform', \n",
        "                        bias_initializer='glorot_uniform')\n",
        "\n",
        "  def call(self, inputs):\n",
        "    attn = [self.attn_heads[i](inputs) for i in range(self.n_heads)]\n",
        "    concat_attn = tf.concat(attn, axis=-1)\n",
        "    multi_linear = self.linear(concat_attn)\n",
        "    return multi_linear   \n",
        "\n",
        "#############################################################################\n",
        "\n",
        "class TransformerEncoder(Layer):\n",
        "  def __init__(self, d_k, d_v, n_heads, ff_dim, dropout=0.1, **kwargs):\n",
        "    super(TransformerEncoder, self).__init__()\n",
        "    self.d_k = d_k\n",
        "    self.d_v = d_v\n",
        "    self.n_heads = n_heads\n",
        "    self.ff_dim = ff_dim\n",
        "    self.attn_heads = list()\n",
        "    self.dropout_rate = dropout\n",
        "\n",
        "  def build(self, input_shape):\n",
        "    self.attn_multi = MultiAttention(self.d_k, self.d_v, self.n_heads)\n",
        "    self.attn_dropout = Dropout(self.dropout_rate)\n",
        "    self.attn_normalize = LayerNormalization(input_shape=input_shape, epsilon=1e-6)\n",
        "\n",
        "    self.ff_conv1D_1 = Conv1D(filters=self.ff_dim, kernel_size=1, activation='relu')\n",
        "    self.ff_conv1D_2 = Conv1D(filters=input_shape[0][-1], kernel_size=1) \n",
        "    self.ff_dropout = Dropout(self.dropout_rate)\n",
        "    self.ff_normalize = LayerNormalization(input_shape=input_shape, epsilon=1e-6)    \n",
        "  \n",
        "  def call(self, inputs): # inputs = (in_seq, in_seq, in_seq)\n",
        "    attn_layer = self.attn_multi(inputs)\n",
        "    attn_layer = self.attn_dropout(attn_layer)\n",
        "    attn_layer = self.attn_normalize(inputs[0] + attn_layer)\n",
        "\n",
        "    ff_layer = self.ff_conv1D_1(attn_layer)\n",
        "    ff_layer = self.ff_conv1D_2(ff_layer)\n",
        "    ff_layer = self.ff_dropout(ff_layer)\n",
        "    ff_layer = self.ff_normalize(inputs[0] + ff_layer)\n",
        "    return ff_layer \n",
        "\n",
        "  def get_config(self): # Needed for saving and loading model with custom layer\n",
        "    config = super().get_config().copy()\n",
        "    config.update({'d_k': self.d_k,\n",
        "                   'd_v': self.d_v,\n",
        "                   'n_heads': self.n_heads,\n",
        "                   'ff_dim': self.ff_dim,\n",
        "                   'attn_heads': self.attn_heads,\n",
        "                   'dropout_rate': self.dropout_rate})\n",
        "    return config          "
      ],
      "execution_count": null,
      "outputs": []
    },
    {
      "cell_type": "code",
      "source": [
        "from keras.layers import Input\n",
        "import tensorflow as tf\n",
        "from keras.layers import Concatenate, Dropout, LayerNormalization, Conv1D, Dense, GlobalAveragePooling1D\n",
        "from keras.models import Model\n",
        "from keras.losses import mean_squared_error\n",
        "from keras import backend as K\n",
        "def root_mean_squared_error(y_true, y_pred):\n",
        "    return K.sqrt(K.mean(K.square(y_pred -y_true)))"
      ],
      "metadata": {
        "id": "oEJFJ3RLzXgQ"
      },
      "execution_count": null,
      "outputs": []
    },
    {
      "cell_type": "code",
      "metadata": {
        "colab": {
          "base_uri": "https://localhost:8080/"
        },
        "outputId": "3586e5de-8b1e-4358-afb8-42cb9a706640",
        "id": "GZ_1-HhMdGot"
      },
      "source": [
        "#### AMZN\n",
        "\n",
        "def create_model():\n",
        "  '''Initialize time and transformer layers'''\n",
        "  time_embedding = Time2Vector(seq_len)\n",
        "  attn_layer1 = TransformerEncoder(d_k, d_v, n_heads, ff_dim)\n",
        "  attn_layer2 = TransformerEncoder(d_k, d_v, n_heads, ff_dim)\n",
        "  attn_layer3 = TransformerEncoder(d_k, d_v, n_heads, ff_dim)\n",
        "\n",
        "  '''Construct model'''\n",
        "  in_seq = Input(shape=(seq_len, 5))  \n",
        "  x = time_embedding(in_seq)\n",
        "  x = Concatenate(axis=-1)([in_seq, x])\n",
        "  x = attn_layer1((x, x, x))\n",
        "  x = attn_layer2((x, x, x))\n",
        "  x = attn_layer3((x, x, x))\n",
        "  x = GlobalAveragePooling1D(data_format='channels_first')(x)\n",
        "  x = Dropout(0.1)(x)\n",
        "  x = Dense(64, activation='relu')(x)\n",
        "  # x = Dense(64, activation='tanh')(x)\n",
        "  x = Dropout(0.1)(x)\n",
        "  out = Dense(1, activation='linear')(x)\n",
        "\n",
        "  model = Model(inputs=in_seq, outputs=out)\n",
        "  model.compile(loss='mse', optimizer='adam', metrics=['mae', root_mean_squared_error])\n",
        "  return model\n",
        "\n",
        "\n",
        "model = create_model()\n",
        "model.summary()\n",
        "\n",
        "callback = tf.keras.callbacks.ModelCheckpoint('Transformer+TimeEmbedding.hdf5', \n",
        "                                              monitor='val_loss', \n",
        "                                              save_best_only=True, verbose=1)\n",
        "\n",
        "history = model.fit(X_train, y_train, \n",
        "                    batch_size=batch_size, \n",
        "                    epochs=15, \n",
        "                    callbacks=[callback],\n",
        "                    validation_data=(X_val, y_val))  \n",
        "\n",
        "\n",
        "## Calculate predication for training, validation and test data\n",
        "\n",
        "train_pred = model.predict(X_train)\n",
        "val_pred = model.predict(X_val)\n",
        "test_pred = model.predict(X_test)\n",
        "\n"
      ],
      "execution_count": null,
      "outputs": [
        {
          "output_type": "stream",
          "name": "stdout",
          "text": [
            "Model: \"model_3\"\n",
            "__________________________________________________________________________________________________\n",
            " Layer (type)                   Output Shape         Param #     Connected to                     \n",
            "==================================================================================================\n",
            " input_4 (InputLayer)           [(None, 100, 5)]     0           []                               \n",
            "                                                                                                  \n",
            " time2_vector_3 (Time2Vector)   (None, 100, 2)       400         ['input_4[0][0]']                \n",
            "                                                                                                  \n",
            " concatenate_3 (Concatenate)    (None, 100, 7)       0           ['input_4[0][0]',                \n",
            "                                                                  'time2_vector_3[0][0]']         \n",
            "                                                                                                  \n",
            " transformer_encoder_9 (Transfo  (None, 100, 7)      99114       ['concatenate_3[0][0]',          \n",
            " rmerEncoder)                                                     'concatenate_3[0][0]',          \n",
            "                                                                  'concatenate_3[0][0]']          \n",
            "                                                                                                  \n",
            " transformer_encoder_10 (Transf  (None, 100, 7)      99114       ['transformer_encoder_9[0][0]',  \n",
            " ormerEncoder)                                                    'transformer_encoder_9[0][0]',  \n",
            "                                                                  'transformer_encoder_9[0][0]']  \n",
            "                                                                                                  \n",
            " transformer_encoder_11 (Transf  (None, 100, 7)      99114       ['transformer_encoder_10[0][0]', \n",
            " ormerEncoder)                                                    'transformer_encoder_10[0][0]', \n",
            "                                                                  'transformer_encoder_10[0][0]'] \n",
            "                                                                                                  \n",
            " global_average_pooling1d_3 (Gl  (None, 100)         0           ['transformer_encoder_11[0][0]'] \n",
            " obalAveragePooling1D)                                                                            \n",
            "                                                                                                  \n",
            " dropout_6 (Dropout)            (None, 100)          0           ['global_average_pooling1d_3[0][0\n",
            "                                                                 ]']                              \n",
            "                                                                                                  \n",
            " dense_20 (Dense)               (None, 64)           6464        ['dropout_6[0][0]']              \n",
            "                                                                                                  \n",
            " dropout_7 (Dropout)            (None, 64)           0           ['dense_20[0][0]']               \n",
            "                                                                                                  \n",
            " dense_21 (Dense)               (None, 1)            65          ['dropout_7[0][0]']              \n",
            "                                                                                                  \n",
            "==================================================================================================\n",
            "Total params: 304,271\n",
            "Trainable params: 304,271\n",
            "Non-trainable params: 0\n",
            "__________________________________________________________________________________________________\n",
            "Epoch 1/15\n",
            "41/41 [==============================] - ETA: 0s - loss: 3418199.0000 - mae: 1548.5382 - root_mean_squared_error: 1845.3268\n",
            "Epoch 1: val_loss improved from inf to 3215339.25000, saving model to Transformer+TimeEmbedding.hdf5\n",
            "41/41 [==============================] - 100s 2s/step - loss: 3418199.0000 - mae: 1548.5382 - root_mean_squared_error: 1845.3268 - val_loss: 3215339.2500 - val_mae: 1444.0811 - val_root_mean_squared_error: 1806.5059\n",
            "Epoch 2/15\n",
            "41/41 [==============================] - ETA: 0s - loss: 3399123.2500 - mae: 1542.3475 - root_mean_squared_error: 1846.4230\n",
            "Epoch 2: val_loss improved from 3215339.25000 to 3179138.50000, saving model to Transformer+TimeEmbedding.hdf5\n",
            "41/41 [==============================] - 65s 2s/step - loss: 3399123.2500 - mae: 1542.3475 - root_mean_squared_error: 1846.4230 - val_loss: 3179138.5000 - val_mae: 1431.4921 - val_root_mean_squared_error: 1796.3512\n",
            "Epoch 3/15\n",
            "41/41 [==============================] - ETA: 0s - loss: 3329072.7500 - mae: 1519.3899 - root_mean_squared_error: 1813.7174\n",
            "Epoch 3: val_loss improved from 3179138.50000 to 3075882.00000, saving model to Transformer+TimeEmbedding.hdf5\n",
            "41/41 [==============================] - 63s 2s/step - loss: 3329072.7500 - mae: 1519.3899 - root_mean_squared_error: 1813.7174 - val_loss: 3075882.0000 - val_mae: 1394.9597 - val_root_mean_squared_error: 1767.0634\n",
            "Epoch 4/15\n",
            "41/41 [==============================] - ETA: 0s - loss: 3167994.0000 - mae: 1465.5226 - root_mean_squared_error: 1775.4855\n",
            "Epoch 4: val_loss improved from 3075882.00000 to 2870385.75000, saving model to Transformer+TimeEmbedding.hdf5\n",
            "41/41 [==============================] - 63s 2s/step - loss: 3167994.0000 - mae: 1465.5226 - root_mean_squared_error: 1775.4855 - val_loss: 2870385.7500 - val_mae: 1319.2485 - val_root_mean_squared_error: 1707.2662\n",
            "Epoch 5/15\n",
            "41/41 [==============================] - ETA: 0s - loss: 2884602.7500 - mae: 1366.6399 - root_mean_squared_error: 1687.6570\n",
            "Epoch 5: val_loss improved from 2870385.75000 to 2549459.00000, saving model to Transformer+TimeEmbedding.hdf5\n",
            "41/41 [==============================] - 63s 2s/step - loss: 2884602.7500 - mae: 1366.6399 - root_mean_squared_error: 1687.6570 - val_loss: 2549459.0000 - val_mae: 1191.4233 - val_root_mean_squared_error: 1609.3925\n",
            "Epoch 6/15\n",
            "41/41 [==============================] - ETA: 0s - loss: 2485149.5000 - mae: 1215.0592 - root_mean_squared_error: 1563.6361\n",
            "Epoch 6: val_loss improved from 2549459.00000 to 2133808.75000, saving model to Transformer+TimeEmbedding.hdf5\n",
            "41/41 [==============================] - 63s 2s/step - loss: 2485149.5000 - mae: 1215.0592 - root_mean_squared_error: 1563.6361 - val_loss: 2133808.7500 - val_mae: 1035.5521 - val_root_mean_squared_error: 1472.8647\n",
            "Epoch 7/15\n",
            "41/41 [==============================] - ETA: 0s - loss: 2005305.3750 - mae: 1049.8077 - root_mean_squared_error: 1406.6682\n",
            "Epoch 7: val_loss improved from 2133808.75000 to 1709121.12500, saving model to Transformer+TimeEmbedding.hdf5\n",
            "41/41 [==============================] - 63s 2s/step - loss: 2005305.3750 - mae: 1049.8077 - root_mean_squared_error: 1406.6682 - val_loss: 1709121.1250 - val_mae: 906.8265 - val_root_mean_squared_error: 1318.5387\n",
            "Epoch 8/15\n",
            "41/41 [==============================] - ETA: 0s - loss: 1564757.7500 - mae: 924.7437 - root_mean_squared_error: 1234.2375\n",
            "Epoch 8: val_loss improved from 1709121.12500 to 1373143.62500, saving model to Transformer+TimeEmbedding.hdf5\n",
            "41/41 [==============================] - 63s 2s/step - loss: 1564757.7500 - mae: 924.7437 - root_mean_squared_error: 1234.2375 - val_loss: 1373143.6250 - val_mae: 859.1144 - val_root_mean_squared_error: 1181.5055\n",
            "Epoch 9/15\n",
            "41/41 [==============================] - ETA: 0s - loss: 1255340.1250 - mae: 870.3612 - root_mean_squared_error: 1111.7859\n",
            "Epoch 9: val_loss improved from 1373143.62500 to 1192019.25000, saving model to Transformer+TimeEmbedding.hdf5\n",
            "41/41 [==============================] - 63s 2s/step - loss: 1255340.1250 - mae: 870.3612 - root_mean_squared_error: 1111.7859 - val_loss: 1192019.2500 - val_mae: 878.5657 - val_root_mean_squared_error: 1099.0900\n",
            "Epoch 10/15\n",
            "41/41 [==============================] - ETA: 0s - loss: 1109072.6250 - mae: 854.6031 - root_mean_squared_error: 1047.2358\n",
            "Epoch 10: val_loss improved from 1192019.25000 to 1135032.00000, saving model to Transformer+TimeEmbedding.hdf5\n",
            "41/41 [==============================] - 63s 2s/step - loss: 1109072.6250 - mae: 854.6031 - root_mean_squared_error: 1047.2358 - val_loss: 1135032.0000 - val_mae: 895.1185 - val_root_mean_squared_error: 1069.9866\n",
            "Epoch 11/15\n",
            "41/41 [==============================] - ETA: 0s - loss: 1046660.4375 - mae: 843.2149 - root_mean_squared_error: 1015.6049\n",
            "Epoch 11: val_loss improved from 1135032.00000 to 1130616.75000, saving model to Transformer+TimeEmbedding.hdf5\n",
            "41/41 [==============================] - 63s 2s/step - loss: 1046660.4375 - mae: 843.2149 - root_mean_squared_error: 1015.6049 - val_loss: 1130616.7500 - val_mae: 905.3586 - val_root_mean_squared_error: 1066.1129\n",
            "Epoch 12/15\n",
            "41/41 [==============================] - ETA: 0s - loss: 1036704.1875 - mae: 847.2562 - root_mean_squared_error: 1012.9769\n",
            "Epoch 12: val_loss did not improve from 1130616.75000\n",
            "41/41 [==============================] - 63s 2s/step - loss: 1036704.1875 - mae: 847.2562 - root_mean_squared_error: 1012.9769 - val_loss: 1135239.0000 - val_mae: 913.0820 - val_root_mean_squared_error: 1067.3326\n",
            "Epoch 13/15\n",
            "41/41 [==============================] - ETA: 0s - loss: 1037767.7500 - mae: 845.8604 - root_mean_squared_error: 1013.1724\n",
            "Epoch 13: val_loss did not improve from 1130616.75000\n",
            "41/41 [==============================] - 63s 2s/step - loss: 1037767.7500 - mae: 845.8604 - root_mean_squared_error: 1013.1724 - val_loss: 1137365.2500 - val_mae: 915.5764 - val_root_mean_squared_error: 1068.0521\n",
            "Epoch 14/15\n",
            "41/41 [==============================] - ETA: 0s - loss: 1027904.1250 - mae: 845.6573 - root_mean_squared_error: 1005.2449\n",
            "Epoch 14: val_loss did not improve from 1130616.75000\n",
            "41/41 [==============================] - 62s 2s/step - loss: 1027904.1250 - mae: 845.6573 - root_mean_squared_error: 1005.2449 - val_loss: 1139709.2500 - val_mae: 917.9374 - val_root_mean_squared_error: 1068.8846\n",
            "Epoch 15/15\n",
            "41/41 [==============================] - ETA: 0s - loss: 1029244.4375 - mae: 843.5394 - root_mean_squared_error: 1009.9747\n",
            "Epoch 15: val_loss did not improve from 1130616.75000\n",
            "41/41 [==============================] - 63s 2s/step - loss: 1029244.4375 - mae: 843.5394 - root_mean_squared_error: 1009.9747 - val_loss: 1138569.6250 - val_mae: 916.8298 - val_root_mean_squared_error: 1068.4760\n"
          ]
        }
      ]
    },
    {
      "cell_type": "markdown",
      "source": [
        "performance on AMZN data"
      ],
      "metadata": {
        "id": "2-_L2BP520pM"
      }
    },
    {
      "cell_type": "code",
      "source": [
        "### AMZN transformer mae\n",
        "from sklearn.metrics import mean_absolute_error\n",
        "mean_absolute_error(y_test, test_pred)"
      ],
      "metadata": {
        "colab": {
          "base_uri": "https://localhost:8080/"
        },
        "id": "vZ2v79sjUxko",
        "outputId": "fc252910-f4b4-40c4-de9d-7887332ee643"
      },
      "execution_count": null,
      "outputs": [
        {
          "output_type": "execute_result",
          "data": {
            "text/plain": [
              "847.9947037510366"
            ]
          },
          "metadata": {},
          "execution_count": 161
        }
      ]
    },
    {
      "cell_type": "code",
      "source": [
        "##### AMZN transformer rmse\n",
        "import math\n",
        "from sklearn.metrics import mean_squared_error\n",
        "math.sqrt(mean_squared_error(y_test,test_pred))"
      ],
      "metadata": {
        "colab": {
          "base_uri": "https://localhost:8080/"
        },
        "id": "sqITwyljUSA9",
        "outputId": "c9d4486c-09a5-47e8-bf7a-679a8bc69b4c"
      },
      "execution_count": null,
      "outputs": [
        {
          "output_type": "execute_result",
          "data": {
            "text/plain": [
              "1022.5506781663163"
            ]
          },
          "metadata": {},
          "execution_count": 160
        }
      ]
    },
    {
      "cell_type": "markdown",
      "source": [
        "Same code for FB data"
      ],
      "metadata": {
        "id": "O-nkiLUu24Zq"
      }
    },
    {
      "cell_type": "code",
      "metadata": {
        "colab": {
          "base_uri": "https://localhost:8080/"
        },
        "outputId": "6487f783-ab1b-46a8-804f-57c2e22fa45e",
        "id": "PdZkH4VO4uAO"
      },
      "source": [
        "#### FB\n",
        "\n",
        "def create_model():\n",
        "  '''Initialize time and transformer layers'''\n",
        "  time_embedding = Time2Vector(seq_len)\n",
        "  attn_layer1 = TransformerEncoder(d_k, d_v, n_heads, ff_dim)\n",
        "  attn_layer2 = TransformerEncoder(d_k, d_v, n_heads, ff_dim)\n",
        "  attn_layer3 = TransformerEncoder(d_k, d_v, n_heads, ff_dim)\n",
        "\n",
        "  '''Construct model'''\n",
        "  in_seq = Input(shape=(seq_len, 5))\n",
        "  x = time_embedding(in_seq)\n",
        "  x = Concatenate(axis=-1)([in_seq, x])\n",
        "  x = attn_layer1((x, x, x))\n",
        "  x = attn_layer2((x, x, x))\n",
        "  x = attn_layer3((x, x, x))\n",
        "  x = GlobalAveragePooling1D(data_format='channels_first')(x)\n",
        "  x = Dropout(0.1)(x)\n",
        "  x = Dense(64, activation='relu')(x)\n",
        "  x = Dropout(0.1)(x)\n",
        "  out = Dense(1, activation='linear')(x)\n",
        "\n",
        "  model = Model(inputs=in_seq, outputs=out)\n",
        "  model.compile(loss='mse', optimizer='adam', metrics=['mae', root_mean_squared_error])\n",
        "  return model\n",
        "\n",
        "\n",
        "model = create_model()\n",
        "model.summary()\n",
        "\n",
        "callback = tf.keras.callbacks.ModelCheckpoint('Transformer+TimeEmbedding.hdf5', \n",
        "                                              monitor='val_loss', \n",
        "                                              save_best_only=True, verbose=1)\n",
        "\n",
        "history = model.fit(X_train, y_train, \n",
        "                    batch_size=batch_size, \n",
        "                    epochs=15, \n",
        "                    callbacks=[callback],\n",
        "                    validation_data=(X_val, y_val))  \n",
        "\n",
        "\n",
        "# Calculate predication for training, validation and test data\n",
        "\n",
        "train_pred = model.predict(X_train)\n",
        "val_pred = model.predict(X_val)\n",
        "test_pred = model.predict(X_test)\n",
        "\n"
      ],
      "execution_count": null,
      "outputs": [
        {
          "output_type": "stream",
          "name": "stdout",
          "text": [
            "Model: \"model_7\"\n",
            "__________________________________________________________________________________________________\n",
            " Layer (type)                   Output Shape         Param #     Connected to                     \n",
            "==================================================================================================\n",
            " input_8 (InputLayer)           [(None, 100, 5)]     0           []                               \n",
            "                                                                                                  \n",
            " time2_vector_7 (Time2Vector)   (None, 100, 2)       400         ['input_8[0][0]']                \n",
            "                                                                                                  \n",
            " concatenate_7 (Concatenate)    (None, 100, 7)       0           ['input_8[0][0]',                \n",
            "                                                                  'time2_vector_7[0][0]']         \n",
            "                                                                                                  \n",
            " transformer_encoder_21 (Transf  (None, 100, 7)      99114       ['concatenate_7[0][0]',          \n",
            " ormerEncoder)                                                    'concatenate_7[0][0]',          \n",
            "                                                                  'concatenate_7[0][0]']          \n",
            "                                                                                                  \n",
            " transformer_encoder_22 (Transf  (None, 100, 7)      99114       ['transformer_encoder_21[0][0]', \n",
            " ormerEncoder)                                                    'transformer_encoder_21[0][0]', \n",
            "                                                                  'transformer_encoder_21[0][0]'] \n",
            "                                                                                                  \n",
            " transformer_encoder_23 (Transf  (None, 100, 7)      99114       ['transformer_encoder_22[0][0]', \n",
            " ormerEncoder)                                                    'transformer_encoder_22[0][0]', \n",
            "                                                                  'transformer_encoder_22[0][0]'] \n",
            "                                                                                                  \n",
            " global_average_pooling1d_7 (Gl  (None, 100)         0           ['transformer_encoder_23[0][0]'] \n",
            " obalAveragePooling1D)                                                                            \n",
            "                                                                                                  \n",
            " dropout_14 (Dropout)           (None, 100)          0           ['global_average_pooling1d_7[0][0\n",
            "                                                                 ]']                              \n",
            "                                                                                                  \n",
            " dense_28 (Dense)               (None, 64)           6464        ['dropout_14[0][0]']             \n",
            "                                                                                                  \n",
            " dropout_15 (Dropout)           (None, 64)           0           ['dense_28[0][0]']               \n",
            "                                                                                                  \n",
            " dense_29 (Dense)               (None, 1)            65          ['dropout_15[0][0]']             \n",
            "                                                                                                  \n",
            "==================================================================================================\n",
            "Total params: 304,271\n",
            "Trainable params: 304,271\n",
            "Non-trainable params: 0\n",
            "__________________________________________________________________________________________________\n",
            "Epoch 1/15\n",
            "41/41 [==============================] - ETA: 0s - loss: 35677.1367 - mae: 173.0602 - root_mean_squared_error: 187.7365\n",
            "Epoch 1: val_loss improved from inf to 36229.08203, saving model to Transformer+TimeEmbedding.hdf5\n",
            "41/41 [==============================] - 153s 2s/step - loss: 35677.1367 - mae: 173.0602 - root_mean_squared_error: 187.7365 - val_loss: 36229.0820 - val_mae: 174.8906 - val_root_mean_squared_error: 190.9865\n",
            "Epoch 2/15\n",
            "41/41 [==============================] - ETA: 0s - loss: 33288.0586 - mae: 165.9030 - root_mean_squared_error: 182.1019\n",
            "Epoch 2: val_loss improved from 36229.08203 to 31296.85742, saving model to Transformer+TimeEmbedding.hdf5\n",
            "41/41 [==============================] - 64s 2s/step - loss: 33288.0586 - mae: 165.9030 - root_mean_squared_error: 182.1019 - val_loss: 31296.8574 - val_mae: 160.1702 - val_root_mean_squared_error: 177.5721\n",
            "Epoch 3/15\n",
            "41/41 [==============================] - ETA: 0s - loss: 25379.0430 - mae: 139.6896 - root_mean_squared_error: 157.9789\n",
            "Epoch 3: val_loss improved from 31296.85742 to 19893.74219, saving model to Transformer+TimeEmbedding.hdf5\n",
            "41/41 [==============================] - 66s 2s/step - loss: 25379.0430 - mae: 139.6896 - root_mean_squared_error: 157.9789 - val_loss: 19893.7422 - val_mae: 119.3791 - val_root_mean_squared_error: 141.7579\n",
            "Epoch 4/15\n",
            "41/41 [==============================] - ETA: 0s - loss: 13273.9678 - mae: 89.2961 - root_mean_squared_error: 113.8029\n",
            "Epoch 4: val_loss improved from 19893.74219 to 8476.40527, saving model to Transformer+TimeEmbedding.hdf5\n",
            "41/41 [==============================] - 64s 2s/step - loss: 13273.9678 - mae: 89.2961 - root_mean_squared_error: 113.8029 - val_loss: 8476.4053 - val_mae: 68.8029 - val_root_mean_squared_error: 92.8675\n",
            "Epoch 5/15\n",
            "41/41 [==============================] - ETA: 0s - loss: 6523.8228 - mae: 61.2592 - root_mean_squared_error: 79.5554\n",
            "Epoch 5: val_loss improved from 8476.40527 to 5699.34521, saving model to Transformer+TimeEmbedding.hdf5\n",
            "41/41 [==============================] - 64s 2s/step - loss: 6523.8228 - mae: 61.2592 - root_mean_squared_error: 79.5554 - val_loss: 5699.3452 - val_mae: 58.4687 - val_root_mean_squared_error: 76.3160\n",
            "Epoch 6/15\n",
            "41/41 [==============================] - ETA: 0s - loss: 5940.2725 - mae: 60.6016 - root_mean_squared_error: 76.7922\n",
            "Epoch 6: val_loss improved from 5699.34521 to 5656.04883, saving model to Transformer+TimeEmbedding.hdf5\n",
            "41/41 [==============================] - 64s 2s/step - loss: 5940.2725 - mae: 60.6016 - root_mean_squared_error: 76.7922 - val_loss: 5656.0488 - val_mae: 58.8907 - val_root_mean_squared_error: 76.0247\n",
            "Epoch 7/15\n",
            "41/41 [==============================] - ETA: 0s - loss: 5940.2886 - mae: 60.0268 - root_mean_squared_error: 76.6801\n",
            "Epoch 7: val_loss improved from 5656.04883 to 5642.48828, saving model to Transformer+TimeEmbedding.hdf5\n",
            "41/41 [==============================] - 64s 2s/step - loss: 5940.2886 - mae: 60.0268 - root_mean_squared_error: 76.6801 - val_loss: 5642.4883 - val_mae: 59.4354 - val_root_mean_squared_error: 75.9297\n",
            "Epoch 8/15\n",
            "41/41 [==============================] - ETA: 0s - loss: 5986.3467 - mae: 60.6716 - root_mean_squared_error: 77.0460\n",
            "Epoch 8: val_loss did not improve from 5642.48828\n",
            "41/41 [==============================] - 64s 2s/step - loss: 5986.3467 - mae: 60.6716 - root_mean_squared_error: 77.0460 - val_loss: 5647.7251 - val_mae: 59.1160 - val_root_mean_squared_error: 75.9675\n",
            "Epoch 9/15\n",
            "41/41 [==============================] - ETA: 0s - loss: 5867.2949 - mae: 60.0229 - root_mean_squared_error: 75.7525\n",
            "Epoch 9: val_loss did not improve from 5642.48828\n",
            "41/41 [==============================] - 66s 2s/step - loss: 5867.2949 - mae: 60.0229 - root_mean_squared_error: 75.7525 - val_loss: 5654.6641 - val_mae: 58.9220 - val_root_mean_squared_error: 76.0153\n",
            "Epoch 10/15\n",
            "41/41 [==============================] - ETA: 0s - loss: 5858.2817 - mae: 60.3770 - root_mean_squared_error: 76.0549\n",
            "Epoch 10: val_loss did not improve from 5642.48828\n",
            "41/41 [==============================] - 65s 2s/step - loss: 5858.2817 - mae: 60.3770 - root_mean_squared_error: 76.0549 - val_loss: 5662.0425 - val_mae: 58.7831 - val_root_mean_squared_error: 76.0654\n",
            "Epoch 11/15\n",
            "41/41 [==============================] - ETA: 0s - loss: 5920.8364 - mae: 60.1953 - root_mean_squared_error: 76.3243\n",
            "Epoch 11: val_loss did not improve from 5642.48828\n",
            "41/41 [==============================] - 64s 2s/step - loss: 5920.8364 - mae: 60.1953 - root_mean_squared_error: 76.3243 - val_loss: 5673.2808 - val_mae: 58.6262 - val_root_mean_squared_error: 76.1413\n",
            "Epoch 12/15\n",
            "41/41 [==============================] - ETA: 0s - loss: 5842.0737 - mae: 59.7553 - root_mean_squared_error: 76.1348\n",
            "Epoch 12: val_loss did not improve from 5642.48828\n",
            "41/41 [==============================] - 65s 2s/step - loss: 5842.0737 - mae: 59.7553 - root_mean_squared_error: 76.1348 - val_loss: 5650.3843 - val_mae: 59.0319 - val_root_mean_squared_error: 75.9859\n",
            "Epoch 13/15\n",
            "41/41 [==============================] - ETA: 0s - loss: 5898.2529 - mae: 60.5735 - root_mean_squared_error: 76.3674\n",
            "Epoch 13: val_loss did not improve from 5642.48828\n",
            "41/41 [==============================] - 64s 2s/step - loss: 5898.2529 - mae: 60.5735 - root_mean_squared_error: 76.3674 - val_loss: 5653.2944 - val_mae: 58.9547 - val_root_mean_squared_error: 76.0059\n",
            "Epoch 14/15\n",
            "41/41 [==============================] - ETA: 0s - loss: 5802.0156 - mae: 59.7960 - root_mean_squared_error: 75.5926\n",
            "Epoch 14: val_loss did not improve from 5642.48828\n",
            "41/41 [==============================] - 64s 2s/step - loss: 5802.0156 - mae: 59.7960 - root_mean_squared_error: 75.5926 - val_loss: 5646.9746 - val_mae: 59.1434 - val_root_mean_squared_error: 75.9623\n",
            "Epoch 15/15\n",
            "41/41 [==============================] - ETA: 0s - loss: 5876.7324 - mae: 60.0240 - root_mean_squared_error: 75.7818\n",
            "Epoch 15: val_loss did not improve from 5642.48828\n",
            "41/41 [==============================] - 64s 2s/step - loss: 5876.7324 - mae: 60.0240 - root_mean_squared_error: 75.7818 - val_loss: 5668.2720 - val_mae: 58.6918 - val_root_mean_squared_error: 76.1076\n"
          ]
        }
      ]
    },
    {
      "cell_type": "markdown",
      "source": [
        "performance on FB data"
      ],
      "metadata": {
        "id": "hZzT83pS3CTo"
      }
    },
    {
      "cell_type": "code",
      "source": [
        "### FB transformer  mae\n",
        "\n",
        "from sklearn.metrics import mean_absolute_error\n",
        "mean_absolute_error(y_test, test_pred)"
      ],
      "metadata": {
        "colab": {
          "base_uri": "https://localhost:8080/"
        },
        "id": "qVizo0YeVOyJ",
        "outputId": "3c7374ca-6848-414e-baab-c72628b59a78"
      },
      "execution_count": null,
      "outputs": [
        {
          "output_type": "execute_result",
          "data": {
            "text/plain": [
              "59.744576779157754"
            ]
          },
          "metadata": {},
          "execution_count": 178
        }
      ]
    },
    {
      "cell_type": "code",
      "source": [
        "##### FB transformer  rmse\n",
        "\n",
        "import math\n",
        "from sklearn.metrics import mean_squared_error\n",
        "math.sqrt(mean_squared_error(y_test,test_pred))"
      ],
      "metadata": {
        "colab": {
          "base_uri": "https://localhost:8080/"
        },
        "id": "uLDAdGTT9Sl2",
        "outputId": "99a8ff66-8917-4416-b60a-66f9a46d9990"
      },
      "execution_count": null,
      "outputs": [
        {
          "output_type": "execute_result",
          "data": {
            "text/plain": [
              "71.9585820542941"
            ]
          },
          "metadata": {},
          "execution_count": 96
        }
      ]
    }
  ]
}